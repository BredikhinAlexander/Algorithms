{
 "cells": [
  {
   "cell_type": "markdown",
   "metadata": {
    "id": "PUxea7laqkcL"
   },
   "source": [
    "# Convergence speed\n",
    "\n",
    "1. Show with the definition that the sequence $\\left\\{ \\dfrac{1}{k} \\right\\}_{k=1}^\\infty$ does not have a linear convergence rate (but it converges to zero).\n",
    "1. Determine the convergence or divergence of a given sequence $r_{k} = 0.707^k$.\n",
    "1. Determine the convergence or divergence of a given sequence $r_{k} = 0.707^{2^k}$.\n",
    "1. Determine the convergence or divergence of a given sequence $r_{k} = \\frac{1}{k!}$.\n",
    "1. Determine the convergence or divergence of a given sequence $r_k =\\begin{cases} \\frac{1}{k}, & \\mbox{if } k\\mbox{ is even} \\\\ \\frac{1}{k^2}, & \\mbox{if } k\\mbox{ is odd} \\end{cases}$."
   ]
  },
  {
   "cell_type": "markdown",
   "metadata": {
    "id": "CMc_mwJqqm2f"
   },
   "source": [
    "# Line search"
   ]
  },
  {
   "cell_type": "markdown",
   "metadata": {
    "id": "84wbfwest3yW"
   },
   "source": [
    "1. Consider the function $$f(x) = (x + \\sin x) e^x, \\;\\;\\; x \\in [-20, 0]$$ \n",
    "    ![](https://raw.githubusercontent.com/MerkulovDaniil/optim/master/docs/exercises/Unimodal.svg)\n",
    "\n",
    "    Consider the following modification of solution localization method, in which the interval $[a,b]$ is divided into $2$ parts in a fixed proportion of $t: x_t = a + t*(b-a)$ (maximum twice at iteration - as in the dichotomy method). Experiment with different values of $t \\in [0,1]$ and plot the dependence of $N (t)$ - the number of iterations needed to achieve $\\varepsilon$ - accuracy from the $t$ parameter. Consider $\\varepsilon = 10^{-7}$. Note that with $t = 0.5$ this method is exactly the same as the dichotomy method."
   ]
  },
  {
   "cell_type": "code",
   "execution_count": 2,
   "metadata": {},
   "outputs": [],
   "source": [
    "import numpy as np\n",
    "from matplotlib import pyplot as plt\n",
    "import math "
   ]
  },
  {
   "cell_type": "code",
   "execution_count": 3,
   "metadata": {},
   "outputs": [],
   "source": [
    "def my_function(x):\n",
    "    return (x + np.sin(x)) * np.exp(x)"
   ]
  },
  {
   "cell_type": "code",
   "execution_count": 14,
   "metadata": {
    "id": "a7jmQVTpt4E7"
   },
   "outputs": [],
   "source": [
    "def line_search(fun, t, x_a = -20, x_b = 0, tol = 10**(-7), maxfev=None, \n",
    "        maxiter=200, **options):\n",
    "    x_best = x_a\n",
    "    funcalls = 1\n",
    "    niter = 0\n",
    "    stop = False\n",
    "    success = False\n",
    "\n",
    "    while not stop and niter < maxiter:\n",
    "        niter += 1\n",
    "        x_c = x_a + t * (x_b - x_a)                  \n",
    "        x_y = x_a + t * (x_c - x_a)                   \n",
    "        funcalls += 1\n",
    "        if fun(x_y) <= fun(x_c):\n",
    "            x_b = x_c\n",
    "            x_c = x_y\n",
    "        else:\n",
    "            x_z = x_b + t * (x_c - x_b)               \n",
    "            funcalls += 1\n",
    "            if fun(x_c) <= fun(x_z):\n",
    "                x_a = x_y\n",
    "                x_b = x_z\n",
    "            else:\n",
    "                x_a = x_c\n",
    "                x_c = x_z\n",
    "\n",
    "        x_best = x_c\n",
    "        f_best = fun(x_c)\n",
    "        \n",
    "        \n",
    "        if (x_b - x_a < tol):\n",
    "            success = True\n",
    "\n",
    "        if (maxfev is not None and funcalls >= maxfev) or (x_b - x_a < tol):\n",
    "            stop = True\n",
    "            break\n",
    "\n",
    "        \n",
    "    return x_best, niter\n"
   ]
  },
  {
   "cell_type": "code",
   "execution_count": 15,
   "metadata": {},
   "outputs": [
    {
     "data": {
      "image/png": "[encoded data removed]",
      "text/plain": [
       "<Figure size 1080x360 with 1 Axes>"
      ]
     },
     "metadata": {
      "needs_background": "light"
     },
     "output_type": "display_data"
    }
   ],
   "source": [
    "data = []\n",
    "t_iter = np.linspace(0, 1, 100)\n",
    "for t in t_iter:\n",
    "    x_best, n_iter = line_search(my_function, t)\n",
    "    data.append(n_iter)\n",
    "fig = plt.figure(figsize = (15,5))\n",
    "ax1 = plt.subplot(121)\n",
    "ax1.plot(t_iter, data)\n",
    "ax1.set_ylabel('num_iter')\n",
    "ax1.set_xlabel('t')\n",
    "ax1.grid()\n"
   ]
  },
  {
   "cell_type": "markdown",
   "metadata": {},
   "source": [
    "При t = 0 наш алгоритм никуда не сдвинется (вернее он сразу выйдет, так как x_b = x_a: войдёт в первую ветку, так как значения функции в -20 и 0 совпадают с точностью до 10^(-7) и x_b = x_c, а x_c = x_a + 0 * ... = x_a)"
   ]
  },
  {
   "cell_type": "code",
   "execution_count": 23,
   "metadata": {},
   "outputs": [
    {
     "data": {
      "text/plain": [
       "(-4.3104792859396486e-08, 0.0)"
      ]
     },
     "execution_count": 23,
     "metadata": {},
     "output_type": "execute_result"
    }
   ],
   "source": [
    "my_function(-20), my_function(0)"
   ]
  },
  {
   "cell_type": "markdown",
   "metadata": {},
   "source": [
    "Чтобы узнать при каком t достигается минимальное количество итераций, заполним это значение 200 (что соответсвует максимальному числу итераций) и найдём минимум в массиве, а затем получим, какой t дал этот минимум"
   ]
  },
  {
   "cell_type": "code",
   "execution_count": 26,
   "metadata": {},
   "outputs": [
    {
     "data": {
      "text/plain": [
       "23"
      ]
     },
     "execution_count": 26,
     "metadata": {},
     "output_type": "execute_result"
    }
   ],
   "source": [
    "data[0] = 200\n",
    "min_iter = min(data)\n",
    "min_iter"
   ]
  },
  {
   "cell_type": "code",
   "execution_count": 22,
   "metadata": {},
   "outputs": [
    {
     "data": {
      "text/plain": [
       "0.7070707070707072"
      ]
     },
     "execution_count": 22,
     "metadata": {},
     "output_type": "execute_result"
    }
   ],
   "source": [
    "t_iter[data.index(min_iter)]"
   ]
  },
  {
   "cell_type": "markdown",
   "metadata": {},
   "source": [
    "Заметим, что для даннной функции оптимальный шаг по числу итераций (не по числу вызовов функции!) равняется 0.7, а не 0.5 как в методе дихотомии (при t = 0.5 мы находим оптимум за 28 итераций)"
   ]
  },
  {
   "cell_type": "code",
   "execution_count": 27,
   "metadata": {},
   "outputs": [
    {
     "data": {
      "text/plain": [
       "28"
      ]
     },
     "execution_count": 27,
     "metadata": {},
     "output_type": "execute_result"
    }
   ],
   "source": [
    "data[50]"
   ]
  },
  {
   "cell_type": "markdown",
   "metadata": {},
   "source": [
    "Это можно объяснить тем, что минимум функции находится возле правой границы, поэтому делить побольше, чем половина - выгоднее"
   ]
  },
  {
   "cell_type": "markdown",
   "metadata": {
    "id": "gUjbekSGqog9"
   },
   "source": [
    "# Zero order optimization"
   ]
  },
  {
   "cell_type": "markdown",
   "metadata": {
    "id": "4yJuGRr-vN7g"
   },
   "source": [
    "## Global optimization with scipy\n",
    "Implement Rastrigin function $f: \\mathbb{R}^d \\to \\mathbb{R}$ for d = 10. [link](https://www.sfu.ca/~ssurjano/rastr.html)\n",
    "\n",
    "$$\n",
    "f(\\mathbf{x})=10 d+\\sum_{i=1}^{d}\\left[x_{i}^{2}-10 \\cos \\left(2 \\pi x_{i}\\right)\\right]\n",
    "$$\n",
    "\n",
    "* Consider global optimization from [here](https://docs.scipy.org/doc/scipy/reference/optimize.html#global-optimization).\n",
    "* Plot 4 graphs for different $d$ from {2,4,8,16,32}. On each graph you are to plot $f$ from $N_{fev}$ for 5 methods: `basinhopping`, `brute`, `differential_evolution`, `shgo`, `dual_annealing` from scipy, where $N_{fev}$ - the number of function evaluations. This information is usually avalable from `specific_optimizer.nfev`. If you will need bounds for the optimizer, use $x_i \\in [-5, 5]$."
   ]
  },
  {
   "cell_type": "code",
   "execution_count": 28,
   "metadata": {},
   "outputs": [],
   "source": [
    "import scipy.optimize as opt"
   ]
  },
  {
   "cell_type": "code",
   "execution_count": 33,
   "metadata": {},
   "outputs": [],
   "source": [
    "def Rastrigin_function(x):\n",
    "    d = len(x)\n",
    "    res = 10*d\n",
    "    for el in x:\n",
    "        res += el**2 - 10* np.cos(2*np.pi*el)\n",
    "    return res "
   ]
  },
  {
   "cell_type": "markdown",
   "metadata": {},
   "source": [
    "для d = 2:"
   ]
  },
  {
   "cell_type": "code",
   "execution_count": 40,
   "metadata": {},
   "outputs": [],
   "source": [
    "x0 = [-5.0, 5.0]"
   ]
  },
  {
   "cell_type": "code",
   "execution_count": 41,
   "metadata": {},
   "outputs": [
    {
     "name": "stdout",
     "output_type": "stream",
     "text": [
      "global minimum: x = [-0.0000, 0.0000], f(x0) = 0.0000\n"
     ]
    }
   ],
   "source": [
    "ret = opt.basinhopping(Rastrigin_function, x0)\n",
    "print(\"global minimum: x = [%.4f, %.4f], f(x0) = %.4f\" % (ret.x[0],\n",
    "                                                          ret.x[1],\n",
    "                                                          ret.fun))"
   ]
  },
  {
   "cell_type": "code",
   "execution_count": 42,
   "metadata": {},
   "outputs": [
    {
     "data": {
      "text/plain": [
       "5076"
      ]
     },
     "execution_count": 42,
     "metadata": {},
     "output_type": "execute_result"
    }
   ],
   "source": [
    "ret.nfev"
   ]
  },
  {
   "cell_type": "markdown",
   "metadata": {
    "id": "dxSkhGMuwIXB"
   },
   "source": [
    "## Hyperparameter search with optuna\n",
    "Machine learning models often have hyperparameters. To choose optimal one between them one can use GridSearch or RandomSearch. But these algorithms computationally uneffective and don't use any sort of information about type of optimized function. To overcome this problem one can use [bayesian optimization](https://distill.pub/2020/bayesian-optimization/). Using this method we optimize our model by sequentially chosing points based on prior information about function. ![Image](https://www.resibots.eu/limbo/_images/bo_concept.png). \n",
    "\n",
    "In this task you will use [optuna](https://optuna.org/) package for hyperparameter optimization RandomForestClassifier. Your task is to find best Random Forest model varying at least 3 hyperparameters on iris dataset. Examples can be find [here](https://optuna.org/#code_examples) or [here](https://colab.research.google.com/github/optuna/optuna/blob/master/examples/quickstart.ipynb)"
   ]
  },
  {
   "cell_type": "code",
   "execution_count": 43,
   "metadata": {
    "colab": {
     "base_uri": "https://localhost:8080/"
    },
    "executionInfo": {
     "elapsed": 13304,
     "status": "ok",
     "timestamp": 1613041152018,
     "user": {
      "displayName": "bratishka mipt",
      "photoUrl": "https://lh3.googleusercontent.com/a-/AOh14GgxCOW1U4lsTe0YEt6Sp_NsH44iWXfJOPAmQ0uHEA=s64",
      "userId": "17142413044964926720"
     },
     "user_tz": -180
    },
    "id": "tdsxLVRdqgqi",
    "outputId": "edad3249-dbb8-4b1c-9416-61a11589a953"
   },
   "outputs": [
    {
     "name": "stdout",
     "output_type": "stream",
     "text": [
      "Collecting optuna\n",
      "  Downloading https://files.pythonhosted.org/packages/91/88/9c53460b97c61bce926dfe9dce51e4887c283416ff89ed30af0b73f44efa/optuna-2.5.0-py3-none-any.whl (287kB)\n",
      "Requirement already satisfied: numpy in c:\\my_file\\anaconda\\lib\\site-packages (from optuna) (1.16.4)\n",
      "Collecting colorlog (from optuna)\n",
      "  Downloading https://files.pythonhosted.org/packages/5e/39/0230290df0519d528d8d0ffdfd900150ed24e0076d13b1f19e279444aab1/colorlog-4.7.2-py2.py3-none-any.whl\n",
      "Requirement already satisfied: joblib in c:\\my_file\\anaconda\\lib\\site-packages (from optuna) (0.13.2)\n",
      "Collecting alembic (from optuna)\n",
      "  Downloading https://files.pythonhosted.org/packages/a9/53/daab5c96e22e9ed1c9f8ca4e3256e72213ade42d519b6254c32e59610967/alembic-1.5.4.tar.gz (1.1MB)\n",
      "Collecting cmaes>=0.6.0 (from optuna)\n",
      "  Downloading https://files.pythonhosted.org/packages/21/a2/21775c7343e7dd345e5e12cc7b8432e3d3edae2043b01bc2ecf38c432ef7/cmaes-0.8.1-py3-none-any.whl\n",
      "Collecting packaging>=20.0 (from optuna)\n",
      "  Downloading https://files.pythonhosted.org/packages/3e/89/7ea760b4daa42653ece2380531c90f64788d979110a2ab51049d92f408af/packaging-20.9-py2.py3-none-any.whl (40kB)\n",
      "Requirement already satisfied: tqdm in c:\\my_file\\anaconda\\lib\\site-packages (from optuna) (4.32.1)\n",
      "Requirement already satisfied: scipy!=1.4.0 in c:\\my_file\\anaconda\\lib\\site-packages (from optuna) (1.2.1)\n",
      "Collecting cliff (from optuna)\n",
      "  Downloading https://files.pythonhosted.org/packages/a2/d6/7d9acb68a77acd140be7fececb7f2701b2a29d2da9c54184cb8f93509590/cliff-3.7.0-py3-none-any.whl (80kB)\n",
      "Requirement already satisfied: sqlalchemy>=1.1.0 in c:\\my_file\\anaconda\\lib\\site-packages (from optuna) (1.3.5)\n",
      "Requirement already satisfied: colorama; sys_platform == \"win32\" in c:\\my_file\\anaconda\\lib\\site-packages (from colorlog->optuna) (0.4.1)\n",
      "Collecting Mako (from alembic->optuna)\n",
      "  Downloading https://files.pythonhosted.org/packages/5c/db/2d2d88b924aa4674a080aae83b59ea19d593250bfe5ed789947c21736785/Mako-1.1.4.tar.gz (479kB)\n",
      "Collecting python-editor>=0.3 (from alembic->optuna)\n",
      "  Downloading https://files.pythonhosted.org/packages/c6/d3/201fc3abe391bbae6606e6f1d598c15d367033332bd54352b12f35513717/python_editor-1.0.4-py3-none-any.whl\n",
      "Requirement already satisfied: python-dateutil in c:\\my_file\\anaconda\\lib\\site-packages (from alembic->optuna) (2.8.0)\n",
      "Requirement already satisfied: pyparsing>=2.0.2 in c:\\my_file\\anaconda\\lib\\site-packages (from packaging>=20.0->optuna) (2.4.0)\n",
      "Collecting PrettyTable>=0.7.2 (from cliff->optuna)\n",
      "  Downloading https://files.pythonhosted.org/packages/94/d5/52e48f3bcf66f838d411ad85c3ac9550c2451d082623e2d4d4df7411ed5c/prettytable-2.0.0-py3-none-any.whl\n",
      "Collecting cmd2>=1.0.0 (from cliff->optuna)\n",
      "  Downloading https://files.pythonhosted.org/packages/15/8b/15061b32332bb35ea2a2f6263d0f616779d576e82739ec8e7fcf3c94abf5/cmd2-1.5.0-py3-none-any.whl (133kB)\n",
      "Requirement already satisfied: PyYAML>=3.12 in c:\\my_file\\anaconda\\lib\\site-packages (from cliff->optuna) (5.1.1)\n",
      "Collecting pbr!=2.1.0,>=2.0.0 (from cliff->optuna)\n",
      "  Downloading https://files.pythonhosted.org/packages/fb/48/69046506f6ac61c1eaa9a0d42d22d54673b69e176d30ca98e3f61513e980/pbr-5.5.1-py2.py3-none-any.whl (106kB)\n",
      "Collecting stevedore>=2.0.1 (from cliff->optuna)\n",
      "  Downloading https://files.pythonhosted.org/packages/d4/49/b602307aeac3df3384ff1fcd05da9c0376c622a6c48bb5325f28ab165b57/stevedore-3.3.0-py3-none-any.whl (49kB)\n",
      "Requirement already satisfied: MarkupSafe>=0.9.2 in c:\\my_file\\anaconda\\lib\\site-packages (from Mako->alembic->optuna) (1.1.1)\n",
      "Requirement already satisfied: six>=1.5 in c:\\my_file\\anaconda\\lib\\site-packages (from python-dateutil->alembic->optuna) (1.12.0)\n",
      "Requirement already satisfied: wcwidth in c:\\my_file\\anaconda\\lib\\site-packages (from PrettyTable>=0.7.2->cliff->optuna) (0.1.7)\n",
      "Requirement already satisfied: setuptools in c:\\my_file\\anaconda\\lib\\site-packages (from PrettyTable>=0.7.2->cliff->optuna) (41.0.1)\n",
      "Collecting pyperclip>=1.6 (from cmd2>=1.0.0->cliff->optuna)\n",
      "  Downloading https://files.pythonhosted.org/packages/6f/4c/0b1d507ad7e8bc31d690d04b4f475e74c2002d060f7994ce8c09612df707/pyperclip-1.8.1.tar.gz\n",
      "Requirement already satisfied: attrs>=16.3.0 in c:\\my_file\\anaconda\\lib\\site-packages (from cmd2>=1.0.0->cliff->optuna) (19.1.0)\n",
      "Requirement already satisfied: pyreadline; sys_platform == \"win32\" and python_version < \"3.8\" in c:\\my_file\\anaconda\\lib\\site-packages (from cmd2>=1.0.0->cliff->optuna) (2.1)\n",
      "Collecting importlib-metadata>=1.6.0; python_version < \"3.8\" (from cmd2>=1.0.0->cliff->optuna)\n",
      "  Downloading https://files.pythonhosted.org/packages/f3/ed/da40116a204abb5c4dd1d929346d33e0d29cedb2cedd18ea98f0385dcd92/importlib_metadata-3.4.0-py3-none-any.whl\n",
      "Requirement already satisfied: zipp>=0.5 in c:\\my_file\\anaconda\\lib\\site-packages (from importlib-metadata>=1.6.0; python_version < \"3.8\"->cmd2>=1.0.0->cliff->optuna) (0.5.1)\n",
      "Collecting typing-extensions>=3.6.4; python_version < \"3.8\" (from importlib-metadata>=1.6.0; python_version < \"3.8\"->cmd2>=1.0.0->cliff->optuna)\n",
      "  Downloading https://files.pythonhosted.org/packages/60/7a/e881b5abb54db0e6e671ab088d079c57ce54e8a01a3ca443f561ccadb37e/typing_extensions-3.7.4.3-py3-none-any.whl\n",
      "Building wheels for collected packages: alembic, Mako, pyperclip\n",
      "  Building wheel for alembic (setup.py): started\n",
      "  Building wheel for alembic (setup.py): finished with status 'done'\n",
      "  Stored in directory: C:\\Users\\8523~1\\AppData\\Local\\pip\\Cache\\wheels\\fd\\2d\\ec\\5a1b1e2363ed68392d292d215facf588d5448198edd8078bc1\n",
      "  Building wheel for Mako (setup.py): started\n",
      "  Building wheel for Mako (setup.py): finished with status 'done'\n",
      "  Stored in directory: C:\\Users\\8523~1\\AppData\\Local\\pip\\Cache\\wheels\\ad\\10\\d3\\aeb26e20d19045e2a68e5d3cbb57432e11b5d9c92c99f98d47\n",
      "  Building wheel for pyperclip (setup.py): started\n",
      "  Building wheel for pyperclip (setup.py): finished with status 'done'\n",
      "  Stored in directory: C:\\Users\\8523~1\\AppData\\Local\\pip\\Cache\\wheels\\44\\10\\3a\\c830e9bb3db2c93274ea1f213a41fabde0d8cf3794251fad0c\n",
      "Successfully built alembic Mako pyperclip\n",
      "Installing collected packages: colorlog, Mako, python-editor, alembic, cmaes, packaging, PrettyTable, pyperclip, typing-extensions, importlib-metadata, cmd2, pbr, stevedore, cliff, optuna\n",
      "  Found existing installation: packaging 19.0\n",
      "    Uninstalling packaging-19.0:\n",
      "      Successfully uninstalled packaging-19.0\n",
      "  Found existing installation: importlib-metadata 0.17\n",
      "    Uninstalling importlib-metadata-0.17:\n",
      "      Successfully uninstalled importlib-metadata-0.17\n",
      "Successfully installed Mako-1.1.4 PrettyTable-2.0.0 alembic-1.5.4 cliff-3.7.0 cmaes-0.8.1 cmd2-1.5.0 colorlog-4.7.2 importlib-metadata-3.4.0 optuna-2.5.0 packaging-20.9 pbr-5.5.1 pyperclip-1.8.1 python-editor-1.0.4 stevedore-3.3.0 typing-extensions-3.7.4.3\n"
     ]
    }
   ],
   "source": [
    "!pip install optuna"
   ]
  },
  {
   "cell_type": "code",
   "execution_count": 44,
   "metadata": {
    "executionInfo": {
     "elapsed": 3492,
     "status": "ok",
     "timestamp": 1613041392441,
     "user": {
      "displayName": "bratishka mipt",
      "photoUrl": "https://lh3.googleusercontent.com/a-/AOh14GgxCOW1U4lsTe0YEt6Sp_NsH44iWXfJOPAmQ0uHEA=s64",
      "userId": "17142413044964926720"
     },
     "user_tz": -180
    },
    "id": "wD9RELYLviHe"
   },
   "outputs": [],
   "source": [
    "import sklearn.datasets\n",
    "import sklearn.ensemble\n",
    "import sklearn.model_selection\n",
    "import sklearn.svm\n",
    "\n",
    "import optuna\n",
    "\n",
    "iris = sklearn.datasets.load_iris()\n",
    "x, y = iris.data, iris.target"
   ]
  },
  {
   "cell_type": "code",
   "execution_count": 45,
   "metadata": {
    "colab": {
     "base_uri": "https://localhost:8080/"
    },
    "executionInfo": {
     "elapsed": 566,
     "status": "ok",
     "timestamp": 1613041424307,
     "user": {
      "displayName": "bratishka mipt",
      "photoUrl": "https://lh3.googleusercontent.com/a-/AOh14GgxCOW1U4lsTe0YEt6Sp_NsH44iWXfJOPAmQ0uHEA=s64",
      "userId": "17142413044964926720"
     },
     "user_tz": -180
    },
    "id": "G4wwHkcfwk1P",
    "outputId": "53af107c-a3e1-4e00-df61-c34033374d3a"
   },
   "outputs": [
    {
     "name": "stdout",
     "output_type": "stream",
     "text": [
      "(150, 4) (150,)\n"
     ]
    }
   ],
   "source": [
    "print(x.shape, y.shape)"
   ]
  },
  {
   "cell_type": "code",
   "execution_count": 46,
   "metadata": {
    "colab": {
     "base_uri": "https://localhost:8080/"
    },
    "executionInfo": {
     "elapsed": 1755,
     "status": "ok",
     "timestamp": 1613041534878,
     "user": {
      "displayName": "bratishka mipt",
      "photoUrl": "https://lh3.googleusercontent.com/a-/AOh14GgxCOW1U4lsTe0YEt6Sp_NsH44iWXfJOPAmQ0uHEA=s64",
      "userId": "17142413044964926720"
     },
     "user_tz": -180
    },
    "id": "Exdh4w_UwrzV",
    "outputId": "8a3b4973-c132-41fb-c098-788113248fc5"
   },
   "outputs": [
    {
     "name": "stdout",
     "output_type": "stream",
     "text": [
      "Accuracy: 0.9673202614379085\n"
     ]
    }
   ],
   "source": [
    "# Here is the example of objective function, which depends on two variables (n_estimators, max_depth). But you'll need to choose at least 3.\n",
    "\n",
    "def objective():\n",
    "    iris = sklearn.datasets.load_iris()  # Prepare the data.\n",
    "    \n",
    "    clf = sklearn.ensemble.RandomForestClassifier(    \n",
    "        n_estimators=5, max_depth=3)  # Define the model.\n",
    "    \n",
    "    return sklearn.model_selection.cross_val_score(\n",
    "        clf, iris.data, iris.target, n_jobs=-1, cv=3).mean()  # Train and evaluate the model.\n",
    "\n",
    "print('Accuracy: {}'.format(objective()))"
   ]
  },
  {
   "cell_type": "code",
   "execution_count": 52,
   "metadata": {
    "id": "fdSuVy4NxICV"
   },
   "outputs": [
    {
     "name": "stderr",
     "output_type": "stream",
     "text": [
      "\u001b[32m[I 2021-02-16 16:37:01,726]\u001b[0m A new study created in memory with name: no-name-c1a3f378-4587-46d4-a6dc-438fbd94d2f9\u001b[0m\n",
      "\u001b[32m[I 2021-02-16 16:37:01,746]\u001b[0m Trial 0 finished with value: 0.9673202614379085 and parameters: {'n_estimators': 5, 'max_depth': 28.681050250666544, 'criterion': 'gini'}. Best is trial 0 with value: 0.9673202614379085.\u001b[0m\n",
      "\u001b[32m[I 2021-02-16 16:37:01,785]\u001b[0m Trial 1 finished with value: 0.9473039215686274 and parameters: {'n_estimators': 24, 'max_depth': 2.467309058597433, 'criterion': 'entropy'}. Best is trial 0 with value: 0.9673202614379085.\u001b[0m\n",
      "\u001b[32m[I 2021-02-16 16:37:01,809]\u001b[0m Trial 2 finished with value: 0.7581699346405228 and parameters: {'n_estimators': 11, 'max_depth': 1.8608910269604726, 'criterion': 'gini'}. Best is trial 0 with value: 0.9673202614379085.\u001b[0m\n",
      "\u001b[32m[I 2021-02-16 16:37:01,830]\u001b[0m Trial 3 finished with value: 0.9538398692810457 and parameters: {'n_estimators': 9, 'max_depth': 2.609185206765053, 'criterion': 'gini'}. Best is trial 0 with value: 0.9673202614379085.\u001b[0m\n",
      "\u001b[32m[I 2021-02-16 16:37:01,862]\u001b[0m Trial 4 finished with value: 0.9738562091503268 and parameters: {'n_estimators': 21, 'max_depth': 5.079681122428831, 'criterion': 'entropy'}. Best is trial 4 with value: 0.9738562091503268.\u001b[0m\n",
      "\u001b[32m[I 2021-02-16 16:37:01,896]\u001b[0m Trial 5 finished with value: 0.9803921568627452 and parameters: {'n_estimators': 23, 'max_depth': 7.840939511385608, 'criterion': 'gini'}. Best is trial 5 with value: 0.9803921568627452.\u001b[0m\n",
      "\u001b[32m[I 2021-02-16 16:37:01,923]\u001b[0m Trial 6 finished with value: 0.9534313725490197 and parameters: {'n_estimators': 15, 'max_depth': 31.284846516147617, 'criterion': 'gini'}. Best is trial 5 with value: 0.9803921568627452.\u001b[0m\n",
      "\u001b[32m[I 2021-02-16 16:37:01,942]\u001b[0m Trial 7 finished with value: 0.8145424836601306 and parameters: {'n_estimators': 7, 'max_depth': 1.892360506529489, 'criterion': 'entropy'}. Best is trial 5 with value: 0.9803921568627452.\u001b[0m\n",
      "\u001b[32m[I 2021-02-16 16:37:01,959]\u001b[0m Trial 8 finished with value: 0.960375816993464 and parameters: {'n_estimators': 4, 'max_depth': 5.372618839664225, 'criterion': 'entropy'}. Best is trial 5 with value: 0.9803921568627452.\u001b[0m\n",
      "\u001b[32m[I 2021-02-16 16:37:01,999]\u001b[0m Trial 9 finished with value: 0.9607843137254902 and parameters: {'n_estimators': 25, 'max_depth': 3.7207008270162056, 'criterion': 'gini'}. Best is trial 5 with value: 0.9803921568627452.\u001b[0m\n",
      "\u001b[32m[I 2021-02-16 16:37:02,037]\u001b[0m Trial 10 finished with value: 0.9538398692810457 and parameters: {'n_estimators': 18, 'max_depth': 13.629301141456097, 'criterion': 'gini'}. Best is trial 5 with value: 0.9803921568627452.\u001b[0m\n",
      "\u001b[32m[I 2021-02-16 16:37:02,078]\u001b[0m Trial 11 finished with value: 0.9599673202614379 and parameters: {'n_estimators': 20, 'max_depth': 10.29104660609498, 'criterion': 'entropy'}. Best is trial 5 with value: 0.9803921568627452.\u001b[0m\n",
      "\u001b[32m[I 2021-02-16 16:37:02,105]\u001b[0m Trial 12 finished with value: 0.9673202614379085 and parameters: {'n_estimators': 22, 'max_depth': 8.897317849430843, 'criterion': 'entropy'}. Best is trial 5 with value: 0.9803921568627452.\u001b[0m\n",
      "\u001b[32m[I 2021-02-16 16:37:02,135]\u001b[0m Trial 13 finished with value: 0.8602941176470589 and parameters: {'n_estimators': 17, 'max_depth': 1.0971341355768218, 'criterion': 'entropy'}. Best is trial 5 with value: 0.9803921568627452.\u001b[0m\n",
      "\u001b[32m[I 2021-02-16 16:37:02,167]\u001b[0m Trial 14 finished with value: 0.9538398692810457 and parameters: {'n_estimators': 22, 'max_depth': 5.8119526196861315, 'criterion': 'gini'}. Best is trial 5 with value: 0.9803921568627452.\u001b[0m\n",
      "\u001b[32m[I 2021-02-16 16:37:02,196]\u001b[0m Trial 15 finished with value: 0.960375816993464 and parameters: {'n_estimators': 25, 'max_depth': 15.08170432296954, 'criterion': 'entropy'}. Best is trial 5 with value: 0.9803921568627452.\u001b[0m\n",
      "\u001b[32m[I 2021-02-16 16:37:02,221]\u001b[0m Trial 16 finished with value: 0.9607843137254902 and parameters: {'n_estimators': 13, 'max_depth': 6.568854349965819, 'criterion': 'entropy'}. Best is trial 5 with value: 0.9803921568627452.\u001b[0m\n",
      "\u001b[32m[I 2021-02-16 16:37:02,248]\u001b[0m Trial 17 finished with value: 0.9673202614379085 and parameters: {'n_estimators': 20, 'max_depth': 19.58499434365581, 'criterion': 'gini'}. Best is trial 5 with value: 0.9803921568627452.\u001b[0m\n",
      "\u001b[32m[I 2021-02-16 16:37:02,280]\u001b[0m Trial 18 finished with value: 0.9673202614379085 and parameters: {'n_estimators': 17, 'max_depth': 3.9791891770799017, 'criterion': 'gini'}. Best is trial 5 with value: 0.9803921568627452.\u001b[0m\n",
      "\u001b[32m[I 2021-02-16 16:37:02,313]\u001b[0m Trial 19 finished with value: 0.9534313725490197 and parameters: {'n_estimators': 22, 'max_depth': 7.613639041759749, 'criterion': 'entropy'}. Best is trial 5 with value: 0.9803921568627452.\u001b[0m\n",
      "\u001b[32m[I 2021-02-16 16:37:02,341]\u001b[0m Trial 20 finished with value: 0.960375816993464 and parameters: {'n_estimators': 14, 'max_depth': 4.067337077339333, 'criterion': 'entropy'}. Best is trial 5 with value: 0.9803921568627452.\u001b[0m\n",
      "\u001b[32m[I 2021-02-16 16:37:02,356]\u001b[0m Trial 21 finished with value: 0.9268790849673203 and parameters: {'n_estimators': 2, 'max_depth': 26.092354375767265, 'criterion': 'gini'}. Best is trial 5 with value: 0.9803921568627452.\u001b[0m\n",
      "\u001b[32m[I 2021-02-16 16:37:02,375]\u001b[0m Trial 22 finished with value: 0.960375816993464 and parameters: {'n_estimators': 5, 'max_depth': 11.821049332328545, 'criterion': 'gini'}. Best is trial 5 with value: 0.9803921568627452.\u001b[0m\n",
      "\u001b[32m[I 2021-02-16 16:37:02,403]\u001b[0m Trial 23 finished with value: 0.9738562091503268 and parameters: {'n_estimators': 19, 'max_depth': 22.038825682687392, 'criterion': 'gini'}. Best is trial 5 with value: 0.9803921568627452.\u001b[0m\n",
      "\u001b[32m[I 2021-02-16 16:37:02,429]\u001b[0m Trial 24 finished with value: 0.9669117647058822 and parameters: {'n_estimators': 20, 'max_depth': 18.40472907690131, 'criterion': 'gini'}. Best is trial 5 with value: 0.9803921568627452.\u001b[0m\n",
      "\u001b[32m[I 2021-02-16 16:37:02,468]\u001b[0m Trial 25 finished with value: 0.9669117647058822 and parameters: {'n_estimators': 23, 'max_depth': 4.923601118852183, 'criterion': 'gini'}. Best is trial 5 with value: 0.9803921568627452.\u001b[0m\n",
      "\u001b[32m[I 2021-02-16 16:37:02,500]\u001b[0m Trial 26 finished with value: 0.9669117647058822 and parameters: {'n_estimators': 19, 'max_depth': 7.669811973898756, 'criterion': 'gini'}. Best is trial 5 with value: 0.9803921568627452.\u001b[0m\n",
      "\u001b[32m[I 2021-02-16 16:37:02,528]\u001b[0m Trial 27 finished with value: 0.9538398692810457 and parameters: {'n_estimators': 16, 'max_depth': 2.935612685910236, 'criterion': 'gini'}. Best is trial 5 with value: 0.9803921568627452.\u001b[0m\n",
      "\u001b[32m[I 2021-02-16 16:37:02,560]\u001b[0m Trial 28 finished with value: 0.8496732026143791 and parameters: {'n_estimators': 21, 'max_depth': 1.198209069762713, 'criterion': 'gini'}. Best is trial 5 with value: 0.9803921568627452.\u001b[0m\n",
      "\u001b[32m[I 2021-02-16 16:37:02,599]\u001b[0m Trial 29 finished with value: 0.9538398692810457 and parameters: {'n_estimators': 25, 'max_depth': 21.188645361723356, 'criterion': 'gini'}. Best is trial 5 with value: 0.9803921568627452.\u001b[0m\n",
      "\u001b[32m[I 2021-02-16 16:37:02,637]\u001b[0m Trial 30 finished with value: 0.9607843137254902 and parameters: {'n_estimators': 24, 'max_depth': 26.053765436591302, 'criterion': 'entropy'}. Best is trial 5 with value: 0.9803921568627452.\u001b[0m\n",
      "\u001b[32m[I 2021-02-16 16:37:02,667]\u001b[0m Trial 31 finished with value: 0.960375816993464 and parameters: {'n_estimators': 23, 'max_depth': 16.147284315469747, 'criterion': 'gini'}. Best is trial 5 with value: 0.9803921568627452.\u001b[0m\n",
      "\u001b[32m[I 2021-02-16 16:37:02,695]\u001b[0m Trial 32 finished with value: 0.9673202614379085 and parameters: {'n_estimators': 11, 'max_depth': 29.62801171429322, 'criterion': 'gini'}. Best is trial 5 with value: 0.9803921568627452.\u001b[0m\n",
      "\u001b[32m[I 2021-02-16 16:37:02,722]\u001b[0m Trial 33 finished with value: 0.9669117647058822 and parameters: {'n_estimators': 12, 'max_depth': 11.0257360795421, 'criterion': 'gini'}. Best is trial 5 with value: 0.9803921568627452.\u001b[0m\n",
      "\u001b[32m[I 2021-02-16 16:37:02,742]\u001b[0m Trial 34 finished with value: 0.9673202614379085 and parameters: {'n_estimators': 9, 'max_depth': 23.130502299938122, 'criterion': 'gini'}. Best is trial 5 with value: 0.9803921568627452.\u001b[0m\n",
      "\u001b[32m[I 2021-02-16 16:37:02,780]\u001b[0m Trial 35 finished with value: 0.9534313725490197 and parameters: {'n_estimators': 18, 'max_depth': 31.816713427572033, 'criterion': 'gini'}. Best is trial 5 with value: 0.9803921568627452.\u001b[0m\n"
     ]
    },
    {
     "name": "stderr",
     "output_type": "stream",
     "text": [
      "\u001b[32m[I 2021-02-16 16:37:02,801]\u001b[0m Trial 36 finished with value: 0.9669117647058822 and parameters: {'n_estimators': 9, 'max_depth': 3.13441036371333, 'criterion': 'gini'}. Best is trial 5 with value: 0.9803921568627452.\u001b[0m\n",
      "\u001b[32m[I 2021-02-16 16:37:02,842]\u001b[0m Trial 37 finished with value: 0.9607843137254902 and parameters: {'n_estimators': 24, 'max_depth': 2.2894117116222814, 'criterion': 'entropy'}. Best is trial 5 with value: 0.9803921568627452.\u001b[0m\n",
      "\u001b[32m[I 2021-02-16 16:37:02,869]\u001b[0m Trial 38 finished with value: 0.9538398692810457 and parameters: {'n_estimators': 16, 'max_depth': 4.776758060572, 'criterion': 'gini'}. Best is trial 5 with value: 0.9803921568627452.\u001b[0m\n",
      "\u001b[32m[I 2021-02-16 16:37:02,889]\u001b[0m Trial 39 finished with value: 0.9607843137254902 and parameters: {'n_estimators': 6, 'max_depth': 12.97664646822012, 'criterion': 'gini'}. Best is trial 5 with value: 0.9803921568627452.\u001b[0m\n",
      "\u001b[32m[I 2021-02-16 16:37:02,920]\u001b[0m Trial 40 finished with value: 0.784313725490196 and parameters: {'n_estimators': 19, 'max_depth': 1.49770509451523, 'criterion': 'entropy'}. Best is trial 5 with value: 0.9803921568627452.\u001b[0m\n",
      "\u001b[32m[I 2021-02-16 16:37:02,946]\u001b[0m Trial 41 finished with value: 0.9534313725490197 and parameters: {'n_estimators': 17, 'max_depth': 4.27530843111616, 'criterion': 'gini'}. Best is trial 5 with value: 0.9803921568627452.\u001b[0m\n",
      "\u001b[32m[I 2021-02-16 16:37:02,979]\u001b[0m Trial 42 finished with value: 0.9468954248366014 and parameters: {'n_estimators': 22, 'max_depth': 7.343870767257944, 'criterion': 'entropy'}. Best is trial 5 with value: 0.9803921568627452.\u001b[0m\n",
      "\u001b[32m[I 2021-02-16 16:37:03,005]\u001b[0m Trial 43 finished with value: 0.960375816993464 and parameters: {'n_estimators': 11, 'max_depth': 28.1302888492075, 'criterion': 'gini'}. Best is trial 5 with value: 0.9803921568627452.\u001b[0m\n",
      "\u001b[32m[I 2021-02-16 16:37:03,053]\u001b[0m Trial 44 finished with value: 0.960375816993464 and parameters: {'n_estimators': 21, 'max_depth': 9.142592383557933, 'criterion': 'entropy'}. Best is trial 5 with value: 0.9803921568627452.\u001b[0m\n",
      "\u001b[32m[I 2021-02-16 16:37:03,073]\u001b[0m Trial 45 finished with value: 0.9477124183006537 and parameters: {'n_estimators': 2, 'max_depth': 9.443692910076853, 'criterion': 'entropy'}. Best is trial 5 with value: 0.9803921568627452.\u001b[0m\n",
      "\u001b[32m[I 2021-02-16 16:37:03,100]\u001b[0m Trial 46 finished with value: 0.9669117647058822 and parameters: {'n_estimators': 15, 'max_depth': 3.29875091709358, 'criterion': 'gini'}. Best is trial 5 with value: 0.9803921568627452.\u001b[0m\n",
      "\u001b[32m[I 2021-02-16 16:37:03,124]\u001b[0m Trial 47 finished with value: 0.9669117647058822 and parameters: {'n_estimators': 8, 'max_depth': 22.732114496930055, 'criterion': 'gini'}. Best is trial 5 with value: 0.9803921568627452.\u001b[0m\n",
      "\u001b[32m[I 2021-02-16 16:37:03,147]\u001b[0m Trial 48 finished with value: 0.9673202614379085 and parameters: {'n_estimators': 9, 'max_depth': 16.98664634513996, 'criterion': 'gini'}. Best is trial 5 with value: 0.9803921568627452.\u001b[0m\n",
      "\u001b[32m[I 2021-02-16 16:37:03,167]\u001b[0m Trial 49 finished with value: 0.9534313725490197 and parameters: {'n_estimators': 4, 'max_depth': 5.97933478478853, 'criterion': 'gini'}. Best is trial 5 with value: 0.9803921568627452.\u001b[0m\n",
      "\u001b[32m[I 2021-02-16 16:37:03,192]\u001b[0m Trial 50 finished with value: 0.9538398692810457 and parameters: {'n_estimators': 7, 'max_depth': 23.335780384858314, 'criterion': 'gini'}. Best is trial 5 with value: 0.9803921568627452.\u001b[0m\n",
      "\u001b[32m[I 2021-02-16 16:37:03,216]\u001b[0m Trial 51 finished with value: 0.9669117647058822 and parameters: {'n_estimators': 9, 'max_depth': 17.79446015620957, 'criterion': 'gini'}. Best is trial 5 with value: 0.9803921568627452.\u001b[0m\n",
      "\u001b[32m[I 2021-02-16 16:37:03,242]\u001b[0m Trial 52 finished with value: 0.9473039215686274 and parameters: {'n_estimators': 10, 'max_depth': 17.227431140183825, 'criterion': 'gini'}. Best is trial 5 with value: 0.9803921568627452.\u001b[0m\n",
      "\u001b[32m[I 2021-02-16 16:37:03,281]\u001b[0m Trial 53 finished with value: 0.9669117647058822 and parameters: {'n_estimators': 21, 'max_depth': 8.863180654654961, 'criterion': 'entropy'}. Best is trial 5 with value: 0.9803921568627452.\u001b[0m\n",
      "\u001b[32m[I 2021-02-16 16:37:03,317]\u001b[0m Trial 54 finished with value: 0.9673202614379085 and parameters: {'n_estimators': 23, 'max_depth': 31.811670355531874, 'criterion': 'entropy'}. Best is trial 5 with value: 0.9803921568627452.\u001b[0m\n",
      "\u001b[32m[I 2021-02-16 16:37:03,338]\u001b[0m Trial 55 finished with value: 0.9468954248366014 and parameters: {'n_estimators': 4, 'max_depth': 14.927453693132072, 'criterion': 'gini'}. Best is trial 5 with value: 0.9803921568627452.\u001b[0m\n",
      "\u001b[32m[I 2021-02-16 16:37:03,379]\u001b[0m Trial 56 finished with value: 0.9673202614379085 and parameters: {'n_estimators': 25, 'max_depth': 31.750524353246117, 'criterion': 'entropy'}. Best is trial 5 with value: 0.9803921568627452.\u001b[0m\n",
      "\u001b[32m[I 2021-02-16 16:37:03,412]\u001b[0m Trial 57 finished with value: 0.960375816993464 and parameters: {'n_estimators': 23, 'max_depth': 20.080079399980765, 'criterion': 'entropy'}. Best is trial 5 with value: 0.9803921568627452.\u001b[0m\n",
      "\u001b[32m[I 2021-02-16 16:37:03,441]\u001b[0m Trial 58 finished with value: 0.9738562091503268 and parameters: {'n_estimators': 13, 'max_depth': 28.177149070334202, 'criterion': 'gini'}. Best is trial 5 with value: 0.9803921568627452.\u001b[0m\n",
      "\u001b[32m[I 2021-02-16 16:37:03,480]\u001b[0m Trial 59 finished with value: 0.9607843137254902 and parameters: {'n_estimators': 25, 'max_depth': 25.966983934122766, 'criterion': 'entropy'}. Best is trial 5 with value: 0.9803921568627452.\u001b[0m\n",
      "\u001b[32m[I 2021-02-16 16:37:03,511]\u001b[0m Trial 60 finished with value: 0.960375816993464 and parameters: {'n_estimators': 18, 'max_depth': 4.000751302572095, 'criterion': 'gini'}. Best is trial 5 with value: 0.9803921568627452.\u001b[0m\n",
      "\u001b[32m[I 2021-02-16 16:37:03,534]\u001b[0m Trial 61 finished with value: 0.9669117647058822 and parameters: {'n_estimators': 13, 'max_depth': 2.46983912516893, 'criterion': 'gini'}. Best is trial 5 with value: 0.9803921568627452.\u001b[0m\n",
      "\u001b[32m[I 2021-02-16 16:37:03,569]\u001b[0m Trial 62 finished with value: 0.9738562091503268 and parameters: {'n_estimators': 20, 'max_depth': 3.569985819213189, 'criterion': 'gini'}. Best is trial 5 with value: 0.9803921568627452.\u001b[0m\n",
      "\u001b[32m[I 2021-02-16 16:37:03,602]\u001b[0m Trial 63 finished with value: 0.9538398692810457 and parameters: {'n_estimators': 24, 'max_depth': 31.720005316889292, 'criterion': 'entropy'}. Best is trial 5 with value: 0.9803921568627452.\u001b[0m\n",
      "\u001b[32m[I 2021-02-16 16:37:03,626]\u001b[0m Trial 64 finished with value: 0.9673202614379085 and parameters: {'n_estimators': 14, 'max_depth': 3.544704601367582, 'criterion': 'gini'}. Best is trial 5 with value: 0.9803921568627452.\u001b[0m\n",
      "\u001b[32m[I 2021-02-16 16:37:03,659]\u001b[0m Trial 65 finished with value: 0.960375816993464 and parameters: {'n_estimators': 20, 'max_depth': 5.202440665300412, 'criterion': 'gini'}. Best is trial 5 with value: 0.9803921568627452.\u001b[0m\n",
      "\u001b[32m[I 2021-02-16 16:37:03,688]\u001b[0m Trial 66 finished with value: 0.960375816993464 and parameters: {'n_estimators': 19, 'max_depth': 2.1932953969318647, 'criterion': 'entropy'}. Best is trial 5 with value: 0.9803921568627452.\u001b[0m\n",
      "\u001b[32m[I 2021-02-16 16:37:03,711]\u001b[0m Trial 67 finished with value: 0.960375816993464 and parameters: {'n_estimators': 12, 'max_depth': 2.7331247964982204, 'criterion': 'gini'}. Best is trial 5 with value: 0.9803921568627452.\u001b[0m\n",
      "\u001b[32m[I 2021-02-16 16:37:03,736]\u001b[0m Trial 68 finished with value: 0.9403594771241831 and parameters: {'n_estimators': 15, 'max_depth': 6.138885404079546, 'criterion': 'gini'}. Best is trial 5 with value: 0.9803921568627452.\u001b[0m\n",
      "\u001b[32m[I 2021-02-16 16:37:03,765]\u001b[0m Trial 69 finished with value: 0.9669117647058822 and parameters: {'n_estimators': 21, 'max_depth': 3.5277764468985566, 'criterion': 'gini'}. Best is trial 5 with value: 0.9803921568627452.\u001b[0m\n",
      "\u001b[32m[I 2021-02-16 16:37:03,794]\u001b[0m Trial 70 finished with value: 0.960375816993464 and parameters: {'n_estimators': 14, 'max_depth': 4.495761663858812, 'criterion': 'gini'}. Best is trial 5 with value: 0.9803921568627452.\u001b[0m\n",
      "\u001b[32m[I 2021-02-16 16:37:03,819]\u001b[0m Trial 71 finished with value: 0.9669117647058822 and parameters: {'n_estimators': 11, 'max_depth': 28.72437568542121, 'criterion': 'gini'}. Best is trial 5 with value: 0.9803921568627452.\u001b[0m\n"
     ]
    },
    {
     "name": "stderr",
     "output_type": "stream",
     "text": [
      "\u001b[32m[I 2021-02-16 16:37:03,842]\u001b[0m Trial 72 finished with value: 0.9669117647058822 and parameters: {'n_estimators': 12, 'max_depth': 23.695322798820328, 'criterion': 'gini'}. Best is trial 5 with value: 0.9803921568627452.\u001b[0m\n",
      "\u001b[32m[I 2021-02-16 16:37:03,865]\u001b[0m Trial 73 finished with value: 0.9669117647058822 and parameters: {'n_estimators': 10, 'max_depth': 27.885955706025378, 'criterion': 'gini'}. Best is trial 5 with value: 0.9803921568627452.\u001b[0m\n",
      "\u001b[32m[I 2021-02-16 16:37:03,882]\u001b[0m Trial 74 finished with value: 0.9669117647058822 and parameters: {'n_estimators': 3, 'max_depth': 20.714428759720075, 'criterion': 'gini'}. Best is trial 5 with value: 0.9803921568627452.\u001b[0m\n",
      "\u001b[32m[I 2021-02-16 16:37:03,913]\u001b[0m Trial 75 finished with value: 0.9538398692810457 and parameters: {'n_estimators': 17, 'max_depth': 3.9312452551342427, 'criterion': 'gini'}. Best is trial 5 with value: 0.9803921568627452.\u001b[0m\n",
      "\u001b[32m[I 2021-02-16 16:37:03,933]\u001b[0m Trial 76 finished with value: 0.960375816993464 and parameters: {'n_estimators': 6, 'max_depth': 13.68228225278544, 'criterion': 'gini'}. Best is trial 5 with value: 0.9803921568627452.\u001b[0m\n",
      "\u001b[32m[I 2021-02-16 16:37:03,968]\u001b[0m Trial 77 finished with value: 0.960375816993464 and parameters: {'n_estimators': 23, 'max_depth': 31.926985501014777, 'criterion': 'entropy'}. Best is trial 5 with value: 0.9803921568627452.\u001b[0m\n",
      "\u001b[32m[I 2021-02-16 16:37:03,998]\u001b[0m Trial 78 finished with value: 0.960375816993464 and parameters: {'n_estimators': 23, 'max_depth': 6.958281195063009, 'criterion': 'entropy'}. Best is trial 5 with value: 0.9803921568627452.\u001b[0m\n",
      "\u001b[32m[I 2021-02-16 16:37:04,023]\u001b[0m Trial 79 finished with value: 0.9669117647058822 and parameters: {'n_estimators': 8, 'max_depth': 25.428110647438654, 'criterion': 'gini'}. Best is trial 5 with value: 0.9803921568627452.\u001b[0m\n",
      "\u001b[32m[I 2021-02-16 16:37:04,061]\u001b[0m Trial 80 finished with value: 0.9607843137254902 and parameters: {'n_estimators': 20, 'max_depth': 16.321640737335564, 'criterion': 'gini'}. Best is trial 5 with value: 0.9803921568627452.\u001b[0m\n",
      "\u001b[32m[I 2021-02-16 16:37:04,092]\u001b[0m Trial 81 finished with value: 0.960375816993464 and parameters: {'n_estimators': 19, 'max_depth': 4.663173020442967, 'criterion': 'gini'}. Best is trial 5 with value: 0.9803921568627452.\u001b[0m\n",
      "\u001b[32m[I 2021-02-16 16:37:04,125]\u001b[0m Trial 82 finished with value: 0.9673202614379085 and parameters: {'n_estimators': 22, 'max_depth': 21.84782046217959, 'criterion': 'entropy'}. Best is trial 5 with value: 0.9803921568627452.\u001b[0m\n",
      "\u001b[32m[I 2021-02-16 16:37:04,156]\u001b[0m Trial 83 finished with value: 0.954248366013072 and parameters: {'n_estimators': 24, 'max_depth': 2.970076184157564, 'criterion': 'entropy'}. Best is trial 5 with value: 0.9803921568627452.\u001b[0m\n",
      "\u001b[32m[I 2021-02-16 16:37:04,184]\u001b[0m Trial 84 finished with value: 0.9534313725490197 and parameters: {'n_estimators': 22, 'max_depth': 21.179295386862925, 'criterion': 'entropy'}. Best is trial 5 with value: 0.9803921568627452.\u001b[0m\n",
      "\u001b[32m[I 2021-02-16 16:37:04,209]\u001b[0m Trial 85 finished with value: 0.9468954248366014 and parameters: {'n_estimators': 18, 'max_depth': 19.188194046142716, 'criterion': 'gini'}. Best is trial 5 with value: 0.9803921568627452.\u001b[0m\n",
      "\u001b[32m[I 2021-02-16 16:37:04,245]\u001b[0m Trial 86 finished with value: 0.9673202614379085 and parameters: {'n_estimators': 20, 'max_depth': 5.439840765449864, 'criterion': 'gini'}. Best is trial 5 with value: 0.9803921568627452.\u001b[0m\n",
      "\u001b[32m[I 2021-02-16 16:37:04,274]\u001b[0m Trial 87 finished with value: 0.9669117647058822 and parameters: {'n_estimators': 22, 'max_depth': 3.413594225584123, 'criterion': 'entropy'}. Best is trial 5 with value: 0.9803921568627452.\u001b[0m\n",
      "\u001b[32m[I 2021-02-16 16:37:04,299]\u001b[0m Trial 88 finished with value: 0.9669117647058822 and parameters: {'n_estimators': 17, 'max_depth': 5.712054137589636, 'criterion': 'gini'}. Best is trial 5 with value: 0.9803921568627452.\u001b[0m\n",
      "\u001b[32m[I 2021-02-16 16:37:04,321]\u001b[0m Trial 89 finished with value: 0.9673202614379085 and parameters: {'n_estimators': 8, 'max_depth': 24.403425693796233, 'criterion': 'gini'}. Best is trial 5 with value: 0.9803921568627452.\u001b[0m\n",
      "\u001b[32m[I 2021-02-16 16:37:04,356]\u001b[0m Trial 90 finished with value: 0.9673202614379085 and parameters: {'n_estimators': 21, 'max_depth': 4.355510281324898, 'criterion': 'gini'}. Best is trial 5 with value: 0.9803921568627452.\u001b[0m\n",
      "\u001b[32m[I 2021-02-16 16:37:04,381]\u001b[0m Trial 91 finished with value: 0.9599673202614379 and parameters: {'n_estimators': 10, 'max_depth': 23.57390884504924, 'criterion': 'gini'}. Best is trial 5 with value: 0.9803921568627452.\u001b[0m\n",
      "\u001b[32m[I 2021-02-16 16:37:04,407]\u001b[0m Trial 92 finished with value: 0.960375816993464 and parameters: {'n_estimators': 11, 'max_depth': 27.807164652462877, 'criterion': 'gini'}. Best is trial 5 with value: 0.9803921568627452.\u001b[0m\n",
      "\u001b[32m[I 2021-02-16 16:37:04,438]\u001b[0m Trial 93 finished with value: 0.9673202614379085 and parameters: {'n_estimators': 25, 'max_depth': 30.306056480455673, 'criterion': 'entropy'}. Best is trial 5 with value: 0.9803921568627452.\u001b[0m\n",
      "\u001b[32m[I 2021-02-16 16:37:04,458]\u001b[0m Trial 94 finished with value: 0.9538398692810457 and parameters: {'n_estimators': 9, 'max_depth': 29.229565948179133, 'criterion': 'entropy'}. Best is trial 5 with value: 0.9803921568627452.\u001b[0m\n",
      "\u001b[32m[I 2021-02-16 16:37:04,498]\u001b[0m Trial 95 finished with value: 0.9534313725490197 and parameters: {'n_estimators': 25, 'max_depth': 31.906528934840544, 'criterion': 'entropy'}. Best is trial 5 with value: 0.9803921568627452.\u001b[0m\n",
      "\u001b[32m[I 2021-02-16 16:37:04,530]\u001b[0m Trial 96 finished with value: 0.9538398692810457 and parameters: {'n_estimators': 24, 'max_depth': 3.6864171180905387, 'criterion': 'gini'}. Best is trial 5 with value: 0.9803921568627452.\u001b[0m\n",
      "\u001b[32m[I 2021-02-16 16:37:04,559]\u001b[0m Trial 97 finished with value: 0.9534313725490197 and parameters: {'n_estimators': 13, 'max_depth': 8.203745092004672, 'criterion': 'entropy'}. Best is trial 5 with value: 0.9803921568627452.\u001b[0m\n",
      "\u001b[32m[I 2021-02-16 16:37:04,582]\u001b[0m Trial 98 finished with value: 0.9538398692810457 and parameters: {'n_estimators': 12, 'max_depth': 26.463679432044096, 'criterion': 'gini'}. Best is trial 5 with value: 0.9803921568627452.\u001b[0m\n",
      "\u001b[32m[I 2021-02-16 16:37:04,610]\u001b[0m Trial 99 finished with value: 0.9607843137254902 and parameters: {'n_estimators': 16, 'max_depth': 2.8110911886523775, 'criterion': 'gini'}. Best is trial 5 with value: 0.9803921568627452.\u001b[0m\n"
     ]
    },
    {
     "name": "stdout",
     "output_type": "stream",
     "text": [
      "Accuracy: 0.9803921568627452\n",
      "Best hyperparameters: {'n_estimators': 23, 'max_depth': 7.840939511385608, 'criterion': 'gini'}\n"
     ]
    }
   ],
   "source": [
    "# добавил ещё параметр criterion (как мы выбираем порого в дереве: джини или энтропия)\n",
    "def objective(trial):\n",
    "    iris = sklearn.datasets.load_iris()\n",
    "    \n",
    "    n_estimators = trial.suggest_int('n_estimators', 2, 25)\n",
    "    max_depth = int(trial.suggest_float('max_depth', 1, 32, log=True))\n",
    "    criterion = trial.suggest_categorical('criterion',{'gini', 'entropy'})\n",
    "    \n",
    "    clf = sklearn.ensemble.RandomForestClassifier(\n",
    "        n_estimators=n_estimators, max_depth=max_depth, criterion=criterion)\n",
    "    \n",
    "    return sklearn.model_selection.cross_val_score(\n",
    "        clf, iris.data, iris.target, n_jobs=-1, cv=3).mean()\n",
    "\n",
    "study = optuna.create_study(direction='maximize')\n",
    "study.optimize(objective, n_trials=100)\n",
    "\n",
    "trial = study.best_trial\n",
    "\n",
    "print('Accuracy: {}'.format(trial.value))\n",
    "print(\"Best hyperparameters: {}\".format(trial.params))"
   ]
  },
  {
   "cell_type": "markdown",
   "metadata": {},
   "source": [
    "Улутшели точность предсказаний на 1.2% по сравнению с дефолтной моделью (где задали гиперпараметры наугад). Неплохой результат, так как точность уже была очень близка к 100%"
   ]
  },
  {
   "cell_type": "code",
   "execution_count": null,
   "metadata": {},
   "outputs": [],
   "source": []
  }
 ],
 "metadata": {
  "colab": {
   "authorship_tag": "ABX9TyMhd7NpUoOCj3wgwXmbEI/T",
   "name": "21_HW_1.ipynb",
   "provenance": []
  },
  "kernelspec": {
   "display_name": "Python 3",
   "language": "python",
   "name": "python3"
  },
  "language_info": {
   "codemirror_mode": {
    "name": "ipython",
    "version": 3
   },
   "file_extension": ".py",
   "mimetype": "text/x-python",
   "name": "python",
   "nbconvert_exporter": "python",
   "pygments_lexer": "ipython3",
   "version": "3.7.3"
  }
 },
 "nbformat": 4,
 "nbformat_minor": 1
}
