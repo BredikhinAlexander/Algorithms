{
 "cells": [
  {
   "cell_type": "markdown",
   "metadata": {
    "id": "GY2gy0gydxVi"
   },
   "source": [
    "Домашнее задание 2. \n",
    "\n",
    "Присылайте .pdf файл, сохраненный из этого ноутбука (можно просто нажать `Ctrl + P`) на `homework@merkulov.top`.\n",
    "\n",
    "**Дедлайн: 30.04.21 23:59:59**"
   ]
  },
  {
   "cell_type": "markdown",
   "metadata": {
    "id": "d8iLZ7oKf6yw"
   },
   "source": [
    "# 🌌 Adaptive metrics methods"
   ]
  },
  {
   "cell_type": "markdown",
   "metadata": {
    "id": "Ckri5pTMgAJ-"
   },
   "source": [
    "## Affine invariance\n",
    "\n",
    "### Метод Ньютона:\n",
    "\n",
    "$$\n",
    "x_{k+1} = x_k - \\left[ f_{xx}(x_k)\\right]^{-1}\\nabla f(x_k) = x_k - \\left[ H(x_k)\\right]^{-1}\\nabla f(x_k) = x_k - B(x_k)\\nabla f(x_k)\n",
    "$$\n",
    "\n",
    "### SR-1 (symmetric rank one) update\n",
    "Для квазиньютоновского метода использует следующую формулу для уточнения **обратного** гессиана:\n",
    "\n",
    "$$\n",
    "B_{k+1} = B_k + \\dfrac{(\\Delta x_k - B_k \\Delta y_k)(\\Delta x_k - B_k \\Delta y_k)^\\top}{\\langle \\Delta x_k - B_k \\Delta y_k , \\Delta y_k\\rangle},  \\quad \\Delta y_k = \\nabla f(x_{k+1}) - \\nabla f(x_k), \\quad \\Delta x_k = x_{k+1} - x_k\n",
    "$$\n",
    "\n",
    "$$\n",
    "x_{k+1} = x_k - B_k \\nabla f (x_k)\n",
    "$$\n",
    "\n",
    "Оценка гессиана при этом:\n",
    "\n",
    "$$\n",
    "H_{k+1}=H_{k}+\\frac {(\\Delta y_k-H_k \\Delta x_k) (\\Delta y_k-H_k \\Delta x_k)^\\top}{(\\Delta y_k-H_k \\Delta x_k)^\\top \\Delta x_k}\n",
    "$$\n",
    "\n",
    "### BFGS\n",
    "использует следующую формулу для уточнения **обратного** гессиана:\n",
    "\n",
    "$$\n",
    "B_{k+1} = B_k + \\frac{(\\Delta x_k^{\\top}\\Delta y_k+\\Delta y_k^{\\top}  B_k \\Delta y_k)(\\Delta x_k \\Delta x_k^{\\top})}{(\\Delta x_k^{\\top} \\Delta y_k)^2} - \\frac{ B_k \\Delta y_k \\Delta x_k^{\\top} + \\Delta x_k \\Delta y_k^{\\top} B_k}{\\Delta x_k^{\\top} \\Delta y_k}.\n",
    "$$\n",
    "\n",
    "Оценка гессиана при этом:\n",
    "\n",
    "$$\n",
    "H_{k+1} = H_k + \\frac{\\Delta y_k \\Delta y_k^{\\top}}{\\Delta y_k^{\\top} \\Delta x_k} - \\frac{H_k \\Delta x_k \\Delta x_k^{\\top} H_k^{\\top} }{\\Delta x_k^{\\top} H_k \\Delta x_k}\n",
    "$$\n",
    "\n",
    "Докажите, что для метода Ньютона обладает афинной инвариантностью, т.е. если есть преобразование координат $\\tilde{f}(z) = f(x)$, где $x = Sz + s, \\;\\; s \\in \\mathbb{R}^n, S \\in \\mathbb{R}^{n \\times n}$, то будет выполняться:\n",
    "\n",
    "$$\n",
    "\\nabla \\tilde{f}(z) = S^\\top \\nabla f(x), \\qquad \\nabla^2 \\tilde{f}(z) = S^\\top \\nabla^2 f(x) S\n",
    "$$\n",
    "\n",
    "Покажите так же, что метод Ньютона и описанные выше оба квазиньютоновских метода запущенные независимо по координатам $x$ и $z$ будут работать так, что всегда будет выполняться связь $x_k = Sz_k + s$, если $x_0 = Sz_0 + s$ и инициализацией $H_0$ для метода по координате $x$ и $S^\\top H_0 S$ для координаты $z$"
   ]
  },
  {
   "cell_type": "markdown",
   "metadata": {
    "id": "CggQLDI4gsWO"
   },
   "source": [
    "<font color=\"lime\"> ==YOUR ANSWER== </font>"
   ]
  },
  {
   "cell_type": "markdown",
   "metadata": {},
   "source": [
    "$\\tilde{f}(z) = f(x)$, $x_0 = Sz_0 + s $"
   ]
  },
  {
   "cell_type": "markdown",
   "metadata": {},
   "source": [
    "Сначала покажем, что градиенты преобразуются так как написано в условии. Просто применим матричное дифференцирование, получим:\n",
    "\n",
    "\n",
    "$$\n",
    "\\begin{array}{l}\n",
    "\\nabla \\tilde{f}(\\bar{z}) = \\frac{\\partial \\tilde{f}}{\\partial \\bar{z}}=\\frac{\\partial f}{\\partial \\bar{x}} \\cdot \\frac{\\partial \\bar{x}}{\\partial \\bar{z}}=\\nabla f \\cdot \\frac{\\partial(s \\bar{z}+\\bar{s})}{\\partial \\bar{z}}  = S^{\\top} \\nabla f(x)\\\\\n",
    "\\nabla^2 \\tilde{f}(\\bar{z}) = \\frac{\\partial^{2} \\tilde{f}}{\\partial z^{2}}=\\frac{\\partial\\left(S^{\\top} \\nabla f\\right)}{\\partial \\bar{x}} \\frac{\\partial \\bar{x}}{\\partial \\bar{z}}=S^{\\top} \\nabla^{2} f \\cdot S\n",
    "\\end{array}\n",
    "$$"
   ]
  },
  {
   "cell_type": "markdown",
   "metadata": {},
   "source": [
    "Получили то, что нужно. Теперь покажем, что при запуске методов независимо по координатам $x$ и $z$ будут работать так, что всегда будет выполняться связь $x_k = Sz_k + s$, если $x_0 = Sz_0 + s$ и инициализацией $H_0$ для метода по координате $x$ и $S^\\top H_0 S$ для координаты $z$\n",
    "\n",
    "Выразим градиент $f(x)$ через градмент $\\tilde{f}(z)$ из 1го выражения:\n",
    "\n",
    "$$\n",
    "\\nabla f(x)=\\left(S^{T}\\right)^{-1} \\nabla \\bar{f}(z)\n",
    "$$\n",
    "\n",
    "Из 2го получаем, как преобразуется гессиан и матрица B:\n",
    "\n",
    "$$\n",
    "\\tilde{H}=S^{\\top} B S\n",
    "$$\n",
    "\n",
    "Значит: \n",
    "\n",
    "$$\n",
    "\\tilde{B}=S^{-1} B (S^{\\top})^{-1}, \\quad B = S \\tilde{B} S^T\n",
    "$$"
   ]
  },
  {
   "cell_type": "markdown",
   "metadata": {},
   "source": [
    "Знаем, что координата $x$ преобразуется как: \n",
    "\n",
    "$$\n",
    "x_{k+1} = x_k - B_k \\nabla f (x_k)\n",
    "$$\n",
    "\n",
    "а координата $z$:\n",
    "\n",
    "$$\n",
    "z_{k+1} = z_k - \\tilde{B_k} \\nabla \\tilde{f} (x_k)\n",
    "$$\n",
    "\n",
    "По индукции докажем, что для любого $k$ выполнено  \n",
    "\n",
    "$$x_k = Sz_k + s $$\n",
    "\n",
    "База индукции уже выполнена (так как точки старта (k = 0) связаны именно так).\n",
    "\n",
    "Предположение индукции: пусть для $k - 1$ верно, докажем для $k$. Чтобы показать это, нужно доказать, что матрицы $B$ и $\\tilde{B}$  на произвольном шаге $k$ связаны как:  \n",
    "\n",
    "$$\n",
    "B_k = S \\tilde{B_k} S^T  \n",
    "$$\n",
    "\n",
    "Это сделаем тоже по индукции для каждого из методов по отдельности (база индукции выполнена: см. выше, выразили из преобразования гессиана)"
   ]
  },
  {
   "cell_type": "markdown",
   "metadata": {},
   "source": [
    "### Для SR-1 (symmetric rank one) update\n",
    "\n",
    "$$\n",
    "B_{k+1} = B_k + \\dfrac{(\\Delta x_k - B_k \\Delta y_k)(\\Delta x_k - B_k \\Delta y_k)^\\top}{\\langle \\Delta x_k - B_k \\Delta y_k , \\Delta y_k\\rangle},  \\quad \\Delta y_k = \\nabla f(x_{k+1}) - \\nabla f(x_k), \\quad \\Delta x_k = x_{k+1} - x_k\n",
    "$$\n",
    "\n",
    "Хотим показать: $B_k = S \\tilde{B_k} S^T $, пусть для $k-1$ выполнено, покажем для $k$:\n",
    "\n",
    "Заметим, что:\n",
    "\n",
    "$$\n",
    "B_{k} \\nabla f=S \\tilde{B}_{k} S^{T}\\left(S^{T}\\right)^{-1} \\nabla \\tilde{f}=S\\left(\\tilde{B}_{k} \\nabla \\tilde{f}\\right)\n",
    "$$\n",
    "\n",
    "$$\n",
    "B_{k} \\Delta y=S\\left(\\tilde{B}_{k} \\Delta \\tilde{y}\\right)\n",
    "$$\n",
    "\n",
    "Тогда по формуле из метода: \n",
    "\n",
    "$$\n",
    "B_{k+1} = S \\tilde{B_k} S^T + \\frac{\\left(S \\Delta z_{k}-S \\tilde{B}_{x} S^{T}\\left(S^{\\top}\\right)^{-1} \\Delta \\tilde{y}_{k}\\right) \\left(S \\Delta z_{k}-S \\tilde{B}_{x} S^{T}\\left(S^{\\top}\\right)^{-1} \\Delta \\tilde{y}_{k}\\right)^T}{\n",
    "\\left\\langle S \\Delta z_{k}-S \\bar{B}_{k} S^{\\top}\\left(S^{T}\\right)^{-1} \\Delta \\tilde{y}_{k},\\left(S^{T}\\right)^{-1} \\Delta \\bar{y}_{k}\\right\\rangle\n",
    "}\n",
    "$$\n",
    "\n",
    "$$\n",
    "= S\\left(\\tilde{B}_{k}+\\frac{\\left(\\Delta z_{k}-\\tilde{B}_{n} \\Delta \\widetilde{y}_{k}\\right)\\left(\\Delta z_{k}-\\widetilde{B}_{k} \\Delta \\bar{y}_{k}\\right)}{\\left\\langle S^{-1} S\\left(\\Delta z_{k}-\\widetilde{B}_{k} \\Delta \\widetilde{y}_{k}\\right), \\Delta \\tilde{y}_{k}\\right\\rangle}\\right) S^{\\top} = \n",
    "S \\tilde{B_{k+1}} S^T\n",
    "$$\n",
    "\n",
    "Проверили для 1го метода. Аналогично сделаем для 2го"
   ]
  },
  {
   "cell_type": "markdown",
   "metadata": {},
   "source": [
    "### Для BFGS\n",
    "\n",
    "$$\n",
    "B_{k+1} = B_k + \\frac{(\\Delta x_k^{\\top}\\Delta y_k+\\Delta y_k^{\\top}  B_k \\Delta y_k)(\\Delta x_k \\Delta x_k^{\\top})}{(\\Delta x_k^{\\top} \\Delta y_k)^2} - \\frac{ B_k \\Delta y_k \\Delta x_k^{\\top} + \\Delta x_k \\Delta y_k^{\\top} B_k}{\\Delta x_k^{\\top} \\Delta y_k}.\n",
    "$$\n"
   ]
  },
  {
   "cell_type": "markdown",
   "metadata": {},
   "source": [
    "$$\n",
    "B_{k+1} = S \\tilde{B_k} S^T + \\frac{((S \\Delta z)^{\\top}\\left(S^{\\top}\\right)^{-1} \\Delta \\tilde{y}_{k}+\\left(\\left(S^{\\top}\\right)^{-1} \\Delta \\tilde{y}_{k}\\right)^{\\top} S \\tilde{B}_{k} \\Delta \\tilde{y}_{k})((S \\Delta z_k)(S \\Delta z_k)^T)}{\\left((S \\Delta z)^{\\top}\\left(S^{\\top}\\right)^{-1} \\Delta \\tilde{y_k}\\right)^{2}} - \\frac{S \\tilde{B}_{k} \\Delta \\tilde{y_{k}}\\left(S_{\\Delta z_k}\\right)^{\\top}+S\\Delta z_k\\left(\\left(S^{\\top}\\right)^{-1} \\Delta \\tilde{y_k}\\right)^{\\top} S \\tilde{B} S^{\\top}}{\\left(S \\Delta z_k\\right)^{\\top}(S)^{-1} \\Delta \\tilde{y_k}}\n",
    "$$\n",
    "\n",
    "$$\n",
    "= S \\tilde{B_k} S^T + \\frac{\\left(\\Delta z^{\\top} \\Delta \\tilde{y}_{k}+\\Delta \\tilde{y}_{k}^{\\top} \\tilde{B} \\Delta \\tilde{y}_{k}\\right) (S\\Delta z_k \\Delta z_{k}^{\\top} S^{\\top})}{\\left(\\Delta z_k^{\\top} \\Delta \\tilde{y_k}\\right)^{2}} - \n",
    "\\frac{S\\left(\\tilde{B}_{k} \\Delta \\tilde{y}_{k} \\Delta z_k^{\\top}+\\Delta z_k \\Delta \\tilde{y_k}^{\\top} \\tilde{B}_{k}\\right) S^{\\top}}{\\Delta z_k^{T} \\Delta \\tilde{y_k}}\n",
    "$$\n",
    "\n",
    "$$\n",
    "= S \\left( \\tilde{B_{k}}+\\frac{\\left(\\Delta z_{k}^T \\Delta \\tilde{y}_{k}+\\Delta \\tilde{y}_{k}^{\\top} \\tilde{B}_{k} \\Delta \\tilde{y}_{k}\\right)\\left(\\Delta z_{k} \\Delta{z_k}^{\\top}\\right)}{\\left(\\Delta z_{k} \\Delta \\tilde{y_k}\\right)^{2}} - \\frac{\\tilde{B}_{k} \\Delta \\tilde{y}_{k} \\Delta z_{k}^{T}+\\Delta z_{k} \\Delta \\tilde{y}^{\\top} \\tilde{B}_{k}}{\\Delta z_{k}^{\\top} \\Delta \\tilde{y}} \\right) S^T = S \\tilde{B_{k+1}} S^T\n",
    "$$"
   ]
  },
  {
   "cell_type": "markdown",
   "metadata": {},
   "source": [
    "После долгих и не очень сложных выкладок снова получили то, что нужно\n",
    "\n",
    "С помощью этого соотношения легко показать, верность выражения для связи координат на kом шаге:\n",
    "\n",
    "из предположения индукции: \n",
    "\n",
    "$$\n",
    "x_{k-1} = S z_{k-1} + s\n",
    "$$\n",
    "\n",
    "Тогда:\n",
    "\n",
    "$$\n",
    "x_k = x_{k-1} - B_{k-1} \\Delta f(x_{k-1}) = S z_{k-1} + s - S \\tilde{B_{k-1}} S^T (S^T)^{-1} \\Delta \\tilde f(z_{k-1}) \n",
    "$$\n",
    "\n",
    "$$\n",
    "= S (z_{k-1} - \\tilde{B_{k-1}} \\Delta \\tilde f(z_{k-1}) + s = S z_k + s\n",
    "$$\n",
    "\n",
    "Показали шаг индукции, следовательно доказал, что всегда будет выполняться связь: $ x_k = S z_k + s $"
   ]
  },
  {
   "cell_type": "markdown",
   "metadata": {
    "id": "JxPhpWe-gxqB"
   },
   "source": [
    "## Newton convergence issue\n",
    "Рассмотрите следующую функцию:\n",
    "\n",
    "$$\n",
    "f(x,y) = \\dfrac{x^4}{4} - x^2 + 2x + (y-1)^2\n",
    "$$\n",
    "\n",
    "И точку старта $x_0 = (0,2)^\\top$. Как ведет себя метод Ньютона, запущенный с этой точки? Чем это можно объяснить? \n",
    "\n",
    "Как ведет себя градиентный спуск с фикисрованным шагом $\\alpha = 0.01$ и метод наискорейшего спуска в таких же условиях?\n",
    "(в этом задании не обязательно показывать численные симуляции)"
   ]
  },
  {
   "cell_type": "markdown",
   "metadata": {
    "id": "dZ90Mu7Jg8U6"
   },
   "source": [
    "<font color=\"lime\"> ==YOUR ANSWER== </font>"
   ]
  },
  {
   "cell_type": "markdown",
   "metadata": {},
   "source": [
    "Решил, что легче с численными симуляциями :)"
   ]
  },
  {
   "cell_type": "code",
   "execution_count": 2,
   "metadata": {},
   "outputs": [],
   "source": [
    "import numpy as np\n",
    "from matplotlib import pyplot as plt"
   ]
  },
  {
   "cell_type": "code",
   "execution_count": 97,
   "metadata": {},
   "outputs": [],
   "source": [
    "def f(x, y):\n",
    "    return x**4/4 - x**2 + 2*x + (y-1)**2"
   ]
  },
  {
   "cell_type": "code",
   "execution_count": 98,
   "metadata": {},
   "outputs": [],
   "source": [
    "def df(x, y):\n",
    "    return np.array([x**3-2*x+2, 2*(y-1)], dtype='float64')"
   ]
  },
  {
   "cell_type": "code",
   "execution_count": 99,
   "metadata": {},
   "outputs": [],
   "source": [
    "def H(x,y):\n",
    "    H = np.zeros((2,2), dtype='float64')\n",
    "    H[0][0] = 3*x**2-2\n",
    "    H[1][1] = 2\n",
    "    return H"
   ]
  },
  {
   "cell_type": "code",
   "execution_count": 111,
   "metadata": {},
   "outputs": [],
   "source": [
    "def Newton_method_coord(x0=np.array([0.0, 2.0]), N=10):\n",
    "    x_n = np.zeros_like(x0)\n",
    "    res = [x0]\n",
    "    for i in range(N):\n",
    "        x_n = x0 - np.linalg.inv(H(x0[0], x0[1])) @ df(x0[0], x0[1])\n",
    "        res.append(x_n)\n",
    "        x0 = x_n\n",
    "    return res"
   ]
  },
  {
   "cell_type": "code",
   "execution_count": 112,
   "metadata": {},
   "outputs": [],
   "source": [
    "res = Newton_method_coord()"
   ]
  },
  {
   "cell_type": "markdown",
   "metadata": {},
   "source": [
    "Реализовал метод Ньютона. И запустил его на 10 итераий"
   ]
  },
  {
   "cell_type": "code",
   "execution_count": 113,
   "metadata": {},
   "outputs": [
    {
     "data": {
      "text/plain": [
       "[array([0., 2.]),\n",
       " array([1., 1.]),\n",
       " array([0., 1.]),\n",
       " array([1., 1.]),\n",
       " array([0., 1.]),\n",
       " array([1., 1.]),\n",
       " array([0., 1.]),\n",
       " array([1., 1.]),\n",
       " array([0., 1.]),\n",
       " array([1., 1.]),\n",
       " array([0., 1.])]"
      ]
     },
     "execution_count": 113,
     "metadata": {},
     "output_type": "execute_result"
    }
   ],
   "source": [
    "res"
   ]
  },
  {
   "cell_type": "markdown",
   "metadata": {},
   "source": [
    "Видим, что он зацикливается и не сходится к минимуму функции!\n",
    "\n",
    "Почему такое получается? У нас переменные не смешиваются (то есть минимизировать нашу функцию от двух переменных, также как минимизировать по отдельности от y и от x, так как нигде нет xy). Для функции по y метод Ньютона находит оптимальное значение за 1 шаг. Конечно, так и должно быть ведь у нас функция от y - парабола, значит её вторая апроксимация - парабола и мы шагаем в минимум.\n",
    "\n",
    "С функцией от x всё тяжелее и точку старта мы выбираем явно неудачную. Построим на шрафик функции и производной и сделаем шаг методом Ньютона из точки 0 "
   ]
  },
  {
   "cell_type": "markdown",
   "metadata": {},
   "source": [
    "![title](graph.png)"
   ]
  },
  {
   "cell_type": "markdown",
   "metadata": {},
   "source": [
    "По графику видим, что точка старта выбрана между двумя точками экстремума для производной функции и метод Ньютона делает шаг (аппроксимирует производную прямой) к другой точке экстремума и происходит зацикливание"
   ]
  },
  {
   "cell_type": "markdown",
   "metadata": {},
   "source": [
    "Делаем вывод, что нужно подбирать точку старта хорошо, иначе не сойдёмся (для этого в вычматах говорили, что первым шагом нужно локализовывать, а затем уже применять этот метод). Чтобы подвердить это, запустим из x=-3"
   ]
  },
  {
   "cell_type": "code",
   "execution_count": 115,
   "metadata": {},
   "outputs": [
    {
     "data": {
      "text/plain": [
       "[array([-3,  2]),\n",
       " array([-2.24,  1.  ]),\n",
       " array([-1.87537141,  1.        ]),\n",
       " array([-1.77655645,  1.        ]),\n",
       " array([-1.76932996,  1.        ])]"
      ]
     },
     "execution_count": 115,
     "metadata": {},
     "output_type": "execute_result"
    }
   ],
   "source": [
    "Newton_method_coord(x0=np.array([-3,2]), N=4)"
   ]
  },
  {
   "cell_type": "markdown",
   "metadata": {},
   "source": [
    "Сошлись к минимуму за 4 итерации с правильной выбранной точкой старта"
   ]
  },
  {
   "cell_type": "markdown",
   "metadata": {},
   "source": [
    "Посмотрим как ведёт себя градиентный спуск"
   ]
  },
  {
   "cell_type": "code",
   "execution_count": 116,
   "metadata": {},
   "outputs": [],
   "source": [
    "def grad_descent(x0=np.array([0.0, 2.0]), N=100):\n",
    "    x_n = np.zeros_like(x0)\n",
    "    res = [f(x0[0], x0[1])]\n",
    "    alpha = 0.01\n",
    "    for i in range(N):\n",
    "        x_n = x0 - alpha * df(x0[0], x0[1])\n",
    "        res.append(f(x_n[0], x_n[1]))\n",
    "        x0 = x_n\n",
    "    return res\n"
   ]
  },
  {
   "cell_type": "code",
   "execution_count": 119,
   "metadata": {},
   "outputs": [
    {
     "data": {
      "image/png": "[encoded data removed]",
      "text/plain": [
       "<Figure size 432x288 with 1 Axes>"
      ]
     },
     "metadata": {
      "needs_background": "light"
     },
     "output_type": "display_data"
    }
   ],
   "source": [
    "N=100\n",
    "plt.plot(np.arange(N+1), grad_descent(N=N));\n",
    "plt.xlabel('номер итеррации')\n",
    "plt.ylabel('function value')\n",
    "plt.title(f'alpha = {0.01}');"
   ]
  },
  {
   "cell_type": "markdown",
   "metadata": {},
   "source": [
    "Градиентный спуск достаточно медленно (так как шаг маленький) сходится к точке минимума"
   ]
  },
  {
   "cell_type": "markdown",
   "metadata": {},
   "source": [
    "Метод наискорейшего спуска тоже сойдется к минимуму (так как точка минимуму 1 и функция выпуклая)"
   ]
  },
  {
   "cell_type": "markdown",
   "metadata": {
    "id": "Sw9RgAzrhljU"
   },
   "source": [
    "## Comparison\n",
    "Реализуйте на языке python:\n",
    "* метод Ньютона\n",
    "* метод SR-1\n",
    "\n",
    "для минимизации следующих функций:\n",
    "* Квадратичная форма $f(x) = \\dfrac{1}{2}x^\\top A x + b^\\top x, \\quad x \\in \\mathbb{R}^n, A \\in \\mathbb{S}_+^{n \\times n}$. Попробуйте n = 2, 50, 228\n",
    "* Функция Розенброка $f(x, y) = (1-x)^2 + 100(y-x^2)^2 .\\quad$\n",
    "\n",
    "Сравните 2 реализованных Вами метода И [метод](https://docs.scipy.org/doc/scipy/reference/optimize.minimize-bfgs.html) `BFGS` из библиотеки `scipy`, а так же его модификацию [L-BFGS](https://docs.scipy.org/doc/scipy/reference/optimize.minimize-lbfgsb.html) в решении задачи минимизации описанных выше функций. точку старта необходимо инициализировать одинаковую для всех методов в рамках одного запуска. Необходимо провести не менее 10 запусков для каждого метода на каждой функции до достижения того критерия остановки, который вы выберете (например, расстояние до точки оптимума - во всех задачах мы её знаем)\n",
    "\n",
    "В качестве результата нужно заполнить следующие таблички, заполнив в них усредненное по числу запусков количество итераций, необходимых для сходимости и времени работы:\n",
    "\n",
    "Критерий остановки `________` норма между точным решением и полученным - менньше заданной точности tol\n",
    "\n",
    "Число запусков `_______` 20\n",
    "\n",
    "P.S. если в силу каких то причин Вам не удалось сделать задание полностью, попробуйте сфокусироваться хотя бы на его части.\n",
    "\n",
    "| Квадратичная форма. n = 2 | Iterations | Time |\n",
    "|:-------------------------:|:----------:|:----:|\n",
    "|           Newton          |            |      |\n",
    "|            SR-1           |            |      |\n",
    "|            BFGS           |            |      |\n",
    "|           L-BFGS          |            |      |\n",
    "\n",
    "| Квадратичная форма. n = 50 | Iterations | Time |\n",
    "|:-------------------------:|:----------:|:----:|\n",
    "|           Newton          |            |      |\n",
    "|            SR-1           |            |      |\n",
    "|            BFGS           |            |      |\n",
    "|           L-BFGS          |            |      |\n",
    "\n",
    "\n",
    "| Квадратичная форма. n = 228 | Iterations | Time |\n",
    "|:-------------------------:|:----------:|:----:|\n",
    "|           Newton          |            |      |\n",
    "|            SR-1           |            |      |\n",
    "|            BFGS           |            |      |\n",
    "|           L-BFGS          |            |      |\n",
    "\n",
    "| Функция Розенброка | Iterations | Time |\n",
    "|:-------------------------:|:----------:|:----:|\n",
    "|           Newton          |            |      |\n",
    "|            SR-1           |            |      |\n",
    "|            BFGS           |            |      |\n",
    "|           L-BFGS          |            |      |"
   ]
  },
  {
   "cell_type": "markdown",
   "metadata": {},
   "source": [
    "### Квадратичная форма"
   ]
  },
  {
   "cell_type": "code",
   "execution_count": 209,
   "metadata": {},
   "outputs": [],
   "source": [
    "import time\n",
    "from scipy.optimize import minimize"
   ]
  },
  {
   "cell_type": "code",
   "execution_count": 520,
   "metadata": {},
   "outputs": [],
   "source": [
    "def gener_data(n):\n",
    "    A = np.random.uniform(size=(n, n)) \n",
    "    A = A @ A.T  # чтобы была симметричной\n",
    "    b = np.random.uniform(size=n)\n",
    "    return A, b"
   ]
  },
  {
   "cell_type": "code",
   "execution_count": 521,
   "metadata": {},
   "outputs": [],
   "source": [
    "N = 2"
   ]
  },
  {
   "cell_type": "code",
   "execution_count": 522,
   "metadata": {},
   "outputs": [],
   "source": [
    "A_m, b_m = gener_data(n=N)"
   ]
  },
  {
   "cell_type": "code",
   "execution_count": 523,
   "metadata": {},
   "outputs": [
    {
     "data": {
      "text/plain": [
       "(array([[0.69855219, 1.05345407],\n",
       "        [1.05345407, 1.77716227]]), array([0.39813017, 0.82622251]))"
      ]
     },
     "execution_count": 523,
     "metadata": {},
     "output_type": "execute_result"
    }
   ],
   "source": [
    "A_m, b_m"
   ]
  },
  {
   "cell_type": "code",
   "execution_count": 524,
   "metadata": {},
   "outputs": [],
   "source": [
    "def exact_solution(A, b):\n",
    "    return -b @ np.linalg.inv(A + A.T)"
   ]
  },
  {
   "cell_type": "code",
   "execution_count": 525,
   "metadata": {},
   "outputs": [],
   "source": [
    "x_exac = exact_solution(A_m, b_m)"
   ]
  },
  {
   "cell_type": "code",
   "execution_count": 526,
   "metadata": {},
   "outputs": [],
   "source": [
    "def quadratic(x, A, b):\n",
    "    return 1/2 * x.T @ A @ x + b.T @ x"
   ]
  },
  {
   "cell_type": "code",
   "execution_count": 527,
   "metadata": {},
   "outputs": [],
   "source": [
    "def grad_quadratic(A, b, x):\n",
    "    return b + (A + A.T) @ x  # A - симметричная, но все равно напишем в общем виде "
   ]
  },
  {
   "cell_type": "code",
   "execution_count": 528,
   "metadata": {},
   "outputs": [],
   "source": [
    "def hes_quadratic(A, b, x):\n",
    "    return A.T + A"
   ]
  },
  {
   "cell_type": "code",
   "execution_count": 529,
   "metadata": {},
   "outputs": [],
   "source": [
    "def method_Newton(A, b, x0, tol=10**(-2)):\n",
    "    res = []\n",
    "    while np.linalg.norm(x0 - x_exac) > tol:\n",
    "        x_new = x0 - np.linalg.inv(hes_quadratic(A, b, x0)) @ grad_quadratic(A, b, x0)\n",
    "        res.append(quadratic(A, b, x_new))\n",
    "        x0 = x_new\n",
    "    return res"
   ]
  },
  {
   "cell_type": "code",
   "execution_count": 530,
   "metadata": {},
   "outputs": [],
   "source": [
    "def SR1(A, b, x0, tol=10**(-4)):\n",
    "    B0 = np.eye(A.shape[0])\n",
    "    res = []\n",
    "    while np.linalg.norm(x0 - x_exac) > tol:\n",
    "        x_new = x0 - B0 @ grad_quadratic(A, b, x0)\n",
    "        dx = x_new - x0\n",
    "        dy = grad_quadratic(A, b, x_new) - grad_quadratic(A, b, x0)\n",
    "        dop = (dx - B0 @ dy).reshape((-1, 1))\n",
    "        B0 += dop @ dop.T / np.inner((dx - B0 @ dy), dy)\n",
    "        x0 = x_new\n",
    "        res.append(quadratic(A, b, x0))\n",
    "    return res"
   ]
  },
  {
   "cell_type": "code",
   "execution_count": 531,
   "metadata": {},
   "outputs": [],
   "source": [
    "final_res = {}\n",
    "for N in [2, 50, 228]:\n",
    "    \n",
    "    A_m, b_m = gener_data(n=N)\n",
    "    x_exac = exact_solution(A_m, b_m)\n",
    "    \n",
    "    result_experiment = {'Newton': {'time': [], 'iter': []}, 'SR1': {'time': [], 'iter': []}, \n",
    "                     'BFGS': {'time': [], 'iter': []}, 'LBFGS': {'time': [], 'iter': []}}\n",
    "    for i in range(20):\n",
    "        x0 = np.random.uniform(low=-1, high=2, size=N)\n",
    "\n",
    "        t_start = time.time()\n",
    "        res_Newton = method_Newton(A_m, b_m, x0)\n",
    "        t_end = time.time()\n",
    "        result_experiment['Newton']['time'].append(t_end - t_start)\n",
    "        result_experiment['Newton']['iter'].append(len(res_Newton))\n",
    "\n",
    "        t_start = time.time()\n",
    "        res_SR1 = SR1(A_m, b_m, x0)\n",
    "        t_end = time.time()\n",
    "        result_experiment['SR1']['time'].append(t_end - t_start)\n",
    "        result_experiment['SR1']['iter'].append(len(res_SR1))\n",
    "\n",
    "        t_start = time.time()\n",
    "        res_BFGS = minimize(quadratic, x0, args=(A_m, b_m), method='BFGS', tol=10**(-2))\n",
    "        t_end = time.time()\n",
    "\n",
    "        result_experiment['BFGS']['time'].append(t_end - t_start)\n",
    "        result_experiment['BFGS']['iter'].append(res_BFGS.nit)\n",
    "\n",
    "        t_start = time.time()\n",
    "        res_LBFGS = minimize(quadratic, x0, args=(A_m, b_m), method='L-BFGS-B', tol=10**(-2))\n",
    "        t_end = time.time()\n",
    "\n",
    "        result_experiment['LBFGS']['time'].append(t_end - t_start)\n",
    "        result_experiment['LBFGS']['iter'].append(res_LBFGS.nit)\n",
    "        \n",
    "    result_experiment['Newton']['iter'] = np.mean(result_experiment['Newton']['iter'])\n",
    "    result_experiment['SR1']['iter'] = np.mean(result_experiment['SR1']['iter'])\n",
    "    result_experiment['BFGS']['iter'] = np.mean(result_experiment['BFGS']['iter'])\n",
    "    result_experiment['LBFGS']['iter'] = np.mean(result_experiment['LBFGS']['iter'])\n",
    "    \n",
    "    result_experiment['Newton']['time'] = np.mean(result_experiment['Newton']['time'])\n",
    "    result_experiment['SR1']['time'] = np.mean(result_experiment['SR1']['time'])\n",
    "    result_experiment['BFGS']['time'] = np.mean(result_experiment['BFGS']['time'])\n",
    "    result_experiment['LBFGS']['time'] = np.mean(result_experiment['LBFGS']['time'])\n",
    "    \n",
    "    final_res[N] = result_experiment"
   ]
  },
  {
   "cell_type": "code",
   "execution_count": 532,
   "metadata": {},
   "outputs": [
    {
     "data": {
      "text/plain": [
       "{2: {'Newton': {'time': 0.00014977455139160157, 'iter': 1.0},\n",
       "  'SR1': {'time': 0.0001496553421020508, 'iter': 3.0},\n",
       "  'BFGS': {'time': 0.0006734251976013184, 'iter': 6.25},\n",
       "  'LBFGS': {'time': 0.00039905309677124023, 'iter': 4.55}},\n",
       " 50: {'Newton': {'time': 0.00020028352737426757, 'iter': 1.0},\n",
       "  'SR1': {'time': 0.003965687751770019, 'iter': 52.0},\n",
       "  'BFGS': {'time': 0.05697555541992187, 'iter': 62.7},\n",
       "  'LBFGS': {'time': 0.014597010612487794, 'iter': 22.1}},\n",
       " 228: {'Newton': {'time': 0.0022580862045288087, 'iter': 1.0},\n",
       "  'SR1': {'time': 0.172900927066803, 'iter': 231.1},\n",
       "  'BFGS': {'time': 4.798973619937897, 'iter': 532.05},\n",
       "  'LBFGS': {'time': 0.18865784406661987, 'iter': 27.8}}}"
      ]
     },
     "execution_count": 532,
     "metadata": {},
     "output_type": "execute_result"
    }
   ],
   "source": [
    "final_res"
   ]
  },
  {
   "cell_type": "markdown",
   "metadata": {},
   "source": [
    "# Функция Розенброка"
   ]
  },
  {
   "cell_type": "code",
   "execution_count": 513,
   "metadata": {},
   "outputs": [],
   "source": [
    "def Rosenbrok(x, y):\n",
    "    return (1 - x)**2 + 100*(y - x**2)**2"
   ]
  },
  {
   "cell_type": "code",
   "execution_count": 514,
   "metadata": {},
   "outputs": [],
   "source": [
    "def grad_Rosenbrok(x, y):\n",
    "    return np.array([-2*(1 - x) - 400*(y - x**2)*x, 200 * (y - x**2)])"
   ]
  },
  {
   "cell_type": "code",
   "execution_count": 515,
   "metadata": {},
   "outputs": [],
   "source": [
    "def hes_Rosenbrok(x, y):\n",
    "    H = np.zeros((2,2), dtype='float64')\n",
    "    H[0][0] = 800*x**2 + 2 - 400*(y - x**2)\n",
    "    H[1][1] = 200\n",
    "    H[0][1] = H[1][0] = -400*x\n",
    "    return H"
   ]
  },
  {
   "cell_type": "code",
   "execution_count": 516,
   "metadata": {},
   "outputs": [],
   "source": [
    "def method_Newton_Ros(x0, tol=10**(-2)):\n",
    "    res = []\n",
    "    while np.linalg.norm(x0 - x_exac) > tol:\n",
    "        x_new = x0 - np.linalg.inv(hes_Rosenbrok(x0[0], x0[1])) @ grad_Rosenbrok(x0[0], x0[1])\n",
    "        res.append(Rosenbrok(x_new[0], x_new[1]))\n",
    "        x0 = x_new\n",
    "    return res"
   ]
  },
  {
   "cell_type": "code",
   "execution_count": 517,
   "metadata": {},
   "outputs": [],
   "source": [
    "def SR1_Ros(x0, tol=10**(-4)):\n",
    "    B0 = np.eye(2)\n",
    "    res = []\n",
    "    while np.linalg.norm(x0 - x_exac) > tol:\n",
    "        x_new = x0 - B0 @ grad_Rosenbrok(x0[0], x0[1])\n",
    "        dx = x_new - x0\n",
    "        dy = grad_Rosenbrok(x_new[0], x_new[1]) - grad_Rosenbrok(x0[0], x0[1])\n",
    "        dop = (dx - B0 @ dy).reshape((-1, 1))\n",
    "        B0 += dop @ dop.T / np.inner((dx - B0 @ dy), dy)\n",
    "        x0 = x_new\n",
    "        res.append(Rosenbrok(x_new[0], x_new[1]))\n",
    "    return res"
   ]
  },
  {
   "cell_type": "code",
   "execution_count": 518,
   "metadata": {},
   "outputs": [],
   "source": [
    "result_experiment = {'Newton': {'time': [], 'iter': []}, 'SR1': {'time': [], 'iter': []}, \n",
    "                     'BFGS': {'time': [], 'iter': []}, 'LBFGS': {'time': [], 'iter': []}}\n",
    "x_exac = np.array([1, 1])\n",
    "for i in range(20):\n",
    "    x0 = np.random.uniform(low=-1, high=2, size=2)\n",
    "\n",
    "    t_start = time.time()\n",
    "    res_Newton = method_Newton_Ros(x0)\n",
    "    t_end = time.time()\n",
    "    result_experiment['Newton']['time'].append(t_end - t_start)\n",
    "    result_experiment['Newton']['iter'].append(len(res_Newton))\n",
    "\n",
    "    t_start = time.time()\n",
    "    res_SR1 = SR1_Ros(x0)\n",
    "    t_end = time.time()\n",
    "    result_experiment['SR1']['time'].append(t_end - t_start)\n",
    "    result_experiment['SR1']['iter'].append(len(res_SR1))\n",
    "\n",
    "    t_start = time.time()\n",
    "    res_BFGS = minimize(Rosenbrok, x0[0], x0[1], method='BFGS', tol=10**(-2))\n",
    "    t_end = time.time()\n",
    "\n",
    "    result_experiment['BFGS']['time'].append(t_end - t_start)\n",
    "    result_experiment['BFGS']['iter'].append(res_BFGS.nit)\n",
    "\n",
    "    t_start = time.time()\n",
    "    res_LBFGS = minimize(Rosenbrok, x0[0], x0[1], method='L-BFGS-B', tol=10**(-2))\n",
    "    t_end = time.time()\n",
    "\n",
    "    result_experiment['LBFGS']['time'].append(t_end - t_start)\n",
    "    result_experiment['LBFGS']['iter'].append(res_LBFGS.nit)\n",
    "\n",
    "result_experiment['Newton']['iter'] = np.mean(result_experiment['Newton']['iter'])\n",
    "result_experiment['SR1']['iter'] = np.mean(result_experiment['SR1']['iter'])\n",
    "result_experiment['BFGS']['iter'] = np.mean(result_experiment['BFGS']['iter'])\n",
    "result_experiment['LBFGS']['iter'] = np.mean(result_experiment['LBFGS']['iter'])\n",
    "\n",
    "result_experiment['Newton']['time'] = np.mean(result_experiment['Newton']['time'])\n",
    "result_experiment['SR1']['time'] = np.mean(result_experiment['SR1']['time'])\n",
    "result_experiment['BFGS']['time'] = np.mean(result_experiment['BFGS']['time'])\n",
    "result_experiment['LBFGS']['time'] = np.mean(result_experiment['LBFGS']['time'])"
   ]
  },
  {
   "cell_type": "code",
   "execution_count": 519,
   "metadata": {},
   "outputs": [
    {
     "data": {
      "text/plain": [
       "{'Newton': {'time': 0.0001485586166381836, 'iter': 3.35},\n",
       " 'SR1': {'time': 0.0047882080078125, 'iter': 146.55},\n",
       " 'BFGS': {'time': 0.0008981347084045411, 'iter': 4.65},\n",
       " 'LBFGS': {'time': 0.0003984928131103516, 'iter': 3.65}}"
      ]
     },
     "execution_count": 519,
     "metadata": {},
     "output_type": "execute_result"
    }
   ],
   "source": [
    "result_experiment"
   ]
  },
  {
   "cell_type": "markdown",
   "metadata": {},
   "source": [
    "Занесём все результаты в таблицы:"
   ]
  },
  {
   "cell_type": "markdown",
   "metadata": {},
   "source": [
    "| Квадратичная форма. n = 2 | Iterations | Time |\n",
    "|:-------------------------:|:----------:|:----:|\n",
    "|           Newton          |     1.0       |  0.00014977    |\n",
    "|            SR-1           |     3.0       |  0.00014965    |\n",
    "|            BFGS           |     6.25       | 0.00067342   |\n",
    "|           L-BFGS          |     4.55       | 0.00039905    |\n",
    "\n",
    "| Квадратичная форма. n = 50 | Iterations | Time |\n",
    "|:-------------------------:|:----------:|:----:|\n",
    "|           Newton          |     1.0       |   0.000200284   |\n",
    "|            SR-1           |     52.0       |  0.003965687    |\n",
    "|            BFGS           |     62.7       |  0.056975555    |\n",
    "|           L-BFGS          |     22.1       |  0.014597011    |\n",
    "\n",
    "\n",
    "| Квадратичная форма. n = 228 | Iterations | Time |\n",
    "|:-------------------------:|:----------:|:----:|\n",
    "|           Newton          |      1.0     |    0.002258086   |\n",
    "|            SR-1           |      231.1     |   0.1729009   |\n",
    "|            BFGS           |      532.05      | 4.79897361     |\n",
    "|           L-BFGS          |      27.8      | 0.18865784     |\n",
    "\n",
    "| Функция Розенброка | Iterations | Time |\n",
    "|:-------------------------:|:----------:|:----------------:|\n",
    "|           Newton          |      3.35       |   0.000148558   |\n",
    "|            SR-1           |      146.55       | 0.004788208   |\n",
    "|            BFGS           |      4.65      |    0.000898134   |\n",
    "|           L-BFGS          |      3.65      |    0.000398493   |"
   ]
  },
  {
   "cell_type": "markdown",
   "metadata": {},
   "source": [
    "Метод Ньютона, как и должен из теории, для квадратичной функции сходится за 1 итерацию и быстрее всех итерационных методов"
   ]
  },
  {
   "cell_type": "markdown",
   "metadata": {
    "id": "NiCGN2NAiIAg"
   },
   "source": [
    "# ↗↘ Conjugate gradients"
   ]
  },
  {
   "cell_type": "markdown",
   "metadata": {
    "id": "ExP0MQXYiKxj"
   },
   "source": [
    "Метод \n",
    "\n",
    "$\\begin{align}\n",
    "& \\mathbf{r}_0 := \\mathbf{b} - \\mathbf{A x}_0 \\\\\n",
    "& \\hbox{if } \\mathbf{r}_{0} \\text{ is sufficiently small, then return } \\mathbf{x}_{0} \\text{ as the result}\\\\\n",
    "& \\mathbf{p}_0 := \\mathbf{r}_0 \\\\\n",
    "& k := 0 \\\\\n",
    "& \\text{repeat} \\\\\n",
    "& \\qquad \\alpha_k := \\frac{\\mathbf{r}_k^\\mathsf{T} \\mathbf{r}_k}{\\mathbf{p}_k^\\mathsf{T} \\mathbf{A p}_k}  \\\\\n",
    "& \\qquad \\mathbf{x}_{k+1} := \\mathbf{x}_k + \\alpha_k \\mathbf{p}_k \\\\\n",
    "& \\qquad \\mathbf{r}_{k+1} := \\mathbf{r}_k - \\alpha_k \\mathbf{A p}_k \\\\\n",
    "& \\qquad \\hbox{if } \\mathbf{r}_{k+1} \\text{ is sufficiently small, then exit loop} \\\\\n",
    "& \\qquad \\beta_k := \\frac{\\mathbf{r}_{k+1}^\\mathsf{T} \\mathbf{r}_{k+1}}{\\mathbf{r}_k^\\mathsf{T} \\mathbf{r}_k} \\\\\n",
    "& \\qquad \\mathbf{p}_{k+1} := \\mathbf{r}_{k+1} + \\beta_k \\mathbf{p}_k \\\\\n",
    "& \\qquad k := k + 1 \\\\\n",
    "& \\text{end repeat} \\\\\n",
    "& \\text{return } \\mathbf{x}_{k+1} \\text{ as the result}\n",
    "\\end{align}$\n",
    "\n",
    "В этом задании Вам предлагается рассмотреть как влияют предобуславливатели на время работы метода сопряженных градиентов.\n",
    "\n",
    "Рассмотрим задачу наименьших квадратов:\n",
    "\n",
    "$$f(x) = \\frac{1}{2}||Ax-b||^2_2=\\frac{1}{2}\\sum\\limits_{i=1}^n(a_i^Tx-b_i)^2$$\n",
    "\n",
    "где $A\\in \\mathbb{S}^{n}_{++}$, $b \\in \\mathbb{R}^{n}$.\n",
    "\n",
    "Как мы знаем, эта задача выпукла и минимум находится из условия $\\nabla f(x^*) =Ax^*-b= 0$. То есть для решения задачи необходимо разрешить систему уравнений $Ax=b$. Можно просто применить метод сопряженных градиентов, но если матрица плохо обусловлена ($\\frac{\\lambda_{max}}{\\lambda_{min}}>>1$), метод работает  медленно (буквально, скорость сходимости CG прямо пропорциональна $\\sqrt{\\kappa(A)}$).\n",
    "\n",
    "### Preconditioning\n",
    "\n",
    "Один из способов борьбы с этим - [использование](https://stanford.edu/class/ee364b/lectures/conj_grad_slides.pdf) матриц-предобуславливателей разных видов и последующее решение другой задачи:\n",
    "\n",
    "$$M^{-1}A x = M^{-1}b$$\n",
    "\n",
    "Здесь матрица **предобуславливателя** $M$ подбирается таким образом, чтобы итоговая матрица $\\tilde{A} = M^{-1} A$ имела меньшее число обусловленности. Существует несколько довольно простых, но зачастую сильно улучшающих работу метода предоубславливателей:\n",
    "\n",
    "\n",
    "* M = diag($A_{11},A_{22}...A_{nn}$) (Jacobi)\n",
    "\n",
    "* M $\\approx \\hat A$, где например $\\hat A$ - неполная [факторизация](http://www.math.iit.edu/~fass/477577_Chapter_16.pdf) Холецкого\n",
    "\n",
    "###  Preconditioned Conjugate Gradients\n",
    "Нет никаких проблем в том, чтобы решать новую систему $\\tilde{A}x = \\tilde{b}$ методов сопряженных градиентов. Однако, нативное встраивание предобуславливателя в алгоритм, делает использование этой идеи еще более эффективной. Для этого надо детально модифицировать классический CG. Кроме того, мы потребуем положительности новой матрицы $\\tilde{A}$. Для этого будем использовать следующий вариант построения матрицы $M$:\n",
    "\n",
    "$$\n",
    "M^{-1} = LL^\\top\n",
    "$$\n",
    "\n",
    "$$\n",
    "\\begin{split}\n",
    "Ax = b &\\leftrightarrow M^{-1}Ax = M^{-1}b \\\\\n",
    "&\\leftrightarrow L^\\top Ax = L^\\top b \\\\\n",
    "&\\leftrightarrow \\underbrace{L^\\top A L}_{\\tilde{A}} \\cdot \\underbrace{L^{-1}x}_{\\tilde{x}} = \\underbrace{L^\\top b}_{\\tilde{b}}\n",
    "\\end{split}\n",
    "$$\n",
    "\n",
    "В новых переменных ($\\tilde{A}, \\tilde{x}, \\tilde{b}$) невязка запишется, как:\n",
    "\n",
    "$$\n",
    "\\tilde{r}_k = \\tilde{b} - \\tilde{A}\\tilde{x}_k = L^\\top b - (L^\\top A L)(L^{-1}x_k) = L^\\top b - L^\\top Ax_k = L^\\top r_k\n",
    "$$\n",
    "\n",
    "\n",
    "Факторизация Холецкого s.p.d. матрицы A - ее разложение на произведение нижнетреугольной и верхнетреугольной матрицы: $A = L^TL$ [wiki](https://en.wikipedia.org/wiki/Cholesky_decomposition).  Есть несколько упрощений этого алгоритма, позволяющих получить матрицу, \"похожую\" на A. Мы будем использовать следующую:  $if \\quad (a_{i,j} =0) \\rightarrow l_{i,j} = 0$, а далее по алгоритму.\n",
    "\n",
    "**Задание** Выбрать 1 задачу [отсюда](https://sparse.tamu.edu/), исследовать как влияет на скорость сходимости тот или иной предоубславливатель:\n",
    "\n",
    "1) Сравнить число итераций, за которое метод сходится с точностью $10^{-7}$ для двух предобуславливателей и для обычного метода сопряженных градиентов.\n",
    "\n",
    "2) Построить графики зависимости нормы невязки $\\|r_k\\| = \\|Ax_k - b\\|$ от номера итерации для двух предобуславливателей и для обычного метода сопряженных градиентов.\n",
    "\n",
    "Пример:\n",
    "\n",
    "![](https://pp.userapi.com/c831309/v831309597/108727/JXO7HGHv8r4.jpg)"
   ]
  },
  {
   "cell_type": "markdown",
   "metadata": {},
   "source": [
    "Реализуем метод сопряжённых градиентов"
   ]
  },
  {
   "cell_type": "code",
   "execution_count": 449,
   "metadata": {},
   "outputs": [],
   "source": [
    "MAX_ITER = 150"
   ]
  },
  {
   "cell_type": "code",
   "execution_count": 560,
   "metadata": {},
   "outputs": [],
   "source": [
    "def con_grad(x, A, b):\n",
    "    rks = []\n",
    "    r = b - np.dot(A, x)\n",
    "    p = r\n",
    "    r_k_norm = np.dot(r.T, r)\n",
    "\n",
    "    for _ in range(MAX_ITER):\n",
    "        rks.append(r_k_norm)#/np.linalg.norm(b))\n",
    "        Ap = np.dot(A, p)\n",
    "        alpha = r_k_norm / np.dot(p.T, Ap)\n",
    "        x += alpha * p\n",
    "        r -= alpha * Ap\n",
    "        r_kplus1_norm = np.dot(r.T, r)\n",
    "        beta = r_kplus1_norm / r_k_norm\n",
    "        r_k_norm = r_kplus1_norm\n",
    "        if r_kplus1_norm < 1e-7:\n",
    "            print('Itr:', _)\n",
    "            break\n",
    "        p = r + beta * p\n",
    "    return x, rks"
   ]
  },
  {
   "cell_type": "markdown",
   "metadata": {},
   "source": [
    "Сгенерим матрицу 2 на 2 и вектор b и с помощью реализованного метода решим её, чтобы убедиться, что метод работат верно (подсчитаем точное решение и сравним с ним)"
   ]
  },
  {
   "cell_type": "code",
   "execution_count": 340,
   "metadata": {},
   "outputs": [],
   "source": [
    "N = 2\n",
    "A = np.random.random([N, N])*5\n",
    "A = A @ A.T # сделаем A симметричной\n",
    "b = np.random.random(N)*5\n",
    "x0 = np.random.random(N)"
   ]
  },
  {
   "cell_type": "code",
   "execution_count": 341,
   "metadata": {},
   "outputs": [
    {
     "name": "stdout",
     "output_type": "stream",
     "text": [
      "Itr: 2\n"
     ]
    },
    {
     "data": {
      "text/plain": [
       "array([-0.65600541,  0.64818336])"
      ]
     },
     "execution_count": 341,
     "metadata": {},
     "output_type": "execute_result"
    }
   ],
   "source": [
    "x = con_grad(x0, A, b)[0]\n",
    "x"
   ]
  },
  {
   "cell_type": "code",
   "execution_count": 342,
   "metadata": {},
   "outputs": [
    {
     "data": {
      "text/plain": [
       "array([-0.65603336,  0.64820825])"
      ]
     },
     "execution_count": 342,
     "metadata": {},
     "output_type": "execute_result"
    }
   ],
   "source": [
    "x_exac = np.linalg.inv(A) @ b\n",
    "x_exac"
   ]
  },
  {
   "cell_type": "markdown",
   "metadata": {},
   "source": [
    "Решение совпадают, значит, метод сопряжённых градиентов работает верно и можно делать предобуславливатели"
   ]
  },
  {
   "cell_type": "code",
   "execution_count": 343,
   "metadata": {},
   "outputs": [
    {
     "name": "stdout",
     "output_type": "stream",
     "text": [
      "Itr: 4\n"
     ]
    },
    {
     "data": {
      "text/plain": [
       "array([-0.65439013,  0.64694923])"
      ]
     },
     "execution_count": 343,
     "metadata": {},
     "output_type": "execute_result"
    }
   ],
   "source": [
    "# Диогональный предобуславливатель\n",
    "x0 = np.random.random(N)\n",
    "\n",
    "d = np.diag(1/np.diag(A))\n",
    "A_diag = d @ A @ d\n",
    "b_diag = d @ b\n",
    "ans = con_grad(x0, A_diag, b_diag)\n",
    "rs = ans[1]\n",
    "x = d @ ans[0] \n",
    "x"
   ]
  },
  {
   "cell_type": "markdown",
   "metadata": {},
   "source": [
    "Видим, что с диагональным предобуславливателем получили тот же ответ, только он свою роль не выполним на моём игрушечном примере (количество итераций увеличилось, а не уменьшилось, хотя для обычной матрицы их было 2, быстрее как известно нельзя)"
   ]
  },
  {
   "cell_type": "code",
   "execution_count": 345,
   "metadata": {},
   "outputs": [
    {
     "name": "stdout",
     "output_type": "stream",
     "text": [
      "Itr: 2\n"
     ]
    },
    {
     "data": {
      "text/plain": [
       "array([-0.65603338,  0.64820828])"
      ]
     },
     "execution_count": 345,
     "metadata": {},
     "output_type": "execute_result"
    }
   ],
   "source": [
    "# Разложение Холецкого\n",
    "L = np.linalg.cholesky(A)\n",
    "A_hol = L.T @ A @ L\n",
    "b_hol = L.T @ b\n",
    "x0 = np.random.random(N)*10\n",
    "x_hol = con_grad(x0, A_hol, b_hol)[0]\n",
    "x_res = L @ x_hol\n",
    "x_res"
   ]
  },
  {
   "cell_type": "markdown",
   "metadata": {},
   "source": [
    "Также получили верный ответ! (тут количество итеараций осталось минимальным - 2)"
   ]
  },
  {
   "cell_type": "markdown",
   "metadata": {},
   "source": [
    "Не понял, можно ли использовать готовую реализацию разложения Холецкого, поэтому решил реализовать алгоритм самостоятельно и сравнить со встроенным (да и просто интересно реалтизовать такое разожение)"
   ]
  },
  {
   "cell_type": "code",
   "execution_count": 372,
   "metadata": {},
   "outputs": [],
   "source": [
    "# ещё раз генерим матрицу\n",
    "A = np.random.random([N, N])\n",
    "A = A @ A.T # сделаем A симметричной"
   ]
  },
  {
   "cell_type": "code",
   "execution_count": 373,
   "metadata": {},
   "outputs": [],
   "source": [
    "def ichol(A):\n",
    "    n = A.shape[0]\n",
    "    L = np.zeros((n, n))\n",
    "    for i in range(n):\n",
    "        for j in range(i+1):\n",
    "            res = 0\n",
    "            for l in range(j):\n",
    "                res += L[i][l] * L[j][l]\n",
    "            \n",
    "            if i == j:\n",
    "                if A[i][j] == 0:\n",
    "                    L[i][j] = 0\n",
    "                L[i][j] = np.sqrt(A[i][i] - res)\n",
    "              \n",
    "            else:\n",
    "                if A[i][j] == 0:\n",
    "                    L[i][j] = 0\n",
    "                L[i][j] = 1.0 / L[j][j] * (A[i][j] - res)\n",
    "    return L"
   ]
  },
  {
   "cell_type": "code",
   "execution_count": 374,
   "metadata": {},
   "outputs": [
    {
     "data": {
      "text/plain": [
       "array([[0.2271735 , 0.        ],\n",
       "       [0.3066954 , 0.11232951]])"
      ]
     },
     "execution_count": 374,
     "metadata": {},
     "output_type": "execute_result"
    }
   ],
   "source": [
    "np.linalg.cholesky(A)"
   ]
  },
  {
   "cell_type": "code",
   "execution_count": 375,
   "metadata": {},
   "outputs": [
    {
     "data": {
      "text/plain": [
       "array([[0.2271735 , 0.        ],\n",
       "       [0.3066954 , 0.11232951]])"
      ]
     },
     "execution_count": 375,
     "metadata": {},
     "output_type": "execute_result"
    }
   ],
   "source": [
    "ichol(A)"
   ]
  },
  {
   "cell_type": "markdown",
   "metadata": {},
   "source": [
    "Написанное разложение работает! Теперь запустим на большой задаче "
   ]
  },
  {
   "cell_type": "code",
   "execution_count": 561,
   "metadata": {},
   "outputs": [],
   "source": [
    "import scipy\n",
    "from scipy import io"
   ]
  },
  {
   "cell_type": "code",
   "execution_count": 562,
   "metadata": {},
   "outputs": [],
   "source": [
    "A = scipy.io.mmread(\"1138_bus.mtx\").toarray()"
   ]
  },
  {
   "cell_type": "code",
   "execution_count": 563,
   "metadata": {},
   "outputs": [
    {
     "data": {
      "text/plain": [
       "(1138, 1138)"
      ]
     },
     "execution_count": 563,
     "metadata": {},
     "output_type": "execute_result"
    }
   ],
   "source": [
    "A.shape"
   ]
  },
  {
   "cell_type": "code",
   "execution_count": 564,
   "metadata": {},
   "outputs": [],
   "source": [
    "N = A.shape[0]"
   ]
  },
  {
   "cell_type": "code",
   "execution_count": 565,
   "metadata": {},
   "outputs": [],
   "source": [
    "b = np.random.random(N)\n",
    "x0 = np.random.random(N)"
   ]
  },
  {
   "cell_type": "code",
   "execution_count": 566,
   "metadata": {},
   "outputs": [],
   "source": [
    "MAX_ITER = 100000"
   ]
  },
  {
   "cell_type": "code",
   "execution_count": 567,
   "metadata": {},
   "outputs": [
    {
     "name": "stdout",
     "output_type": "stream",
     "text": [
      "Itr: 3651\n"
     ]
    },
    {
     "data": {
      "text/plain": [
       "array([  0.39657035,  79.54408351, 125.50385824, ..., 145.4213698 ,\n",
       "       144.04103   , 145.56991054])"
      ]
     },
     "execution_count": 567,
     "metadata": {},
     "output_type": "execute_result"
    }
   ],
   "source": [
    "res_con_grad = con_grad(x0, A, b)\n",
    "res_con_grad[0]"
   ]
  },
  {
   "cell_type": "code",
   "execution_count": null,
   "metadata": {},
   "outputs": [],
   "source": []
  },
  {
   "cell_type": "code",
   "execution_count": 568,
   "metadata": {},
   "outputs": [
    {
     "name": "stdout",
     "output_type": "stream",
     "text": [
      "Itr: 95207\n"
     ]
    },
    {
     "data": {
      "text/plain": [
       "array([  0.3965699 ,  79.54343235, 125.50250154, ..., 145.42071239,\n",
       "       144.038127  , 145.5663504 ])"
      ]
     },
     "execution_count": 568,
     "metadata": {},
     "output_type": "execute_result"
    }
   ],
   "source": [
    "# Диогональный предобуславливатель\n",
    "N = A.shape[0]\n",
    "x0 = np.random.random(N)\n",
    "\n",
    "d = np.diag(1/np.diag(A))\n",
    "A_diag = d @ A @ d\n",
    "b_diag = d @ b\n",
    "ans = con_grad(x0, A_diag, b_diag)\n",
    "rs = ans[1]\n",
    "x = d @ ans[0] \n",
    "x"
   ]
  },
  {
   "cell_type": "code",
   "execution_count": null,
   "metadata": {},
   "outputs": [],
   "source": []
  },
  {
   "cell_type": "code",
   "execution_count": 572,
   "metadata": {},
   "outputs": [
    {
     "data": {
      "text/plain": [
       "array([ 0.00146197,  0.27061231,  0.23906075, ..., -0.03952301,\n",
       "       -0.20583641, -0.24296715])"
      ]
     },
     "execution_count": 572,
     "metadata": {},
     "output_type": "execute_result"
    }
   ],
   "source": [
    "# Разложение Холецкого\n",
    "L = np.linalg.cholesky(A)\n",
    "A_hol = L.T @ A @ L\n",
    "b_hol = L.T @ b\n",
    "x0 = np.random.random(N)*10\n",
    "x_hol = con_grad(x0, A_hol, b_hol)\n",
    "x_res = L @ x_hol[0]\n",
    "x_res"
   ]
  },
  {
   "cell_type": "code",
   "execution_count": null,
   "metadata": {},
   "outputs": [],
   "source": []
  },
  {
   "cell_type": "code",
   "execution_count": 570,
   "metadata": {},
   "outputs": [
    {
     "data": {
      "text/plain": [
       "array([  0.39657039,  79.54409551, 125.50387541, ..., 145.42138999,\n",
       "       144.04105237, 145.56993329])"
      ]
     },
     "execution_count": 570,
     "metadata": {},
     "output_type": "execute_result"
    }
   ],
   "source": [
    "x_exac = np.linalg.inv(A) @ b\n",
    "x_exac"
   ]
  },
  {
   "cell_type": "markdown",
   "metadata": {},
   "source": [
    "Получаем очень странный результат: предобуславливатель мешает методу сходиться, а не помогает ему...\n",
    "\n",
    "Почему так получается? Непонятно(\n",
    "\n",
    "Возможно, абзац про то, что нужно менять метод, а не просто переходить к решению новой системы не просто так (хотя не понял, в чём разница). Но и новую систему решить должно быть проще (по итерациям). Возможно, ошибка в реализации, но ответы сходятся..."
   ]
  },
  {
   "cell_type": "code",
   "execution_count": 584,
   "metadata": {},
   "outputs": [
    {
     "data": {
      "text/plain": [
       "<matplotlib.legend.Legend at 0x263acfa9160>"
      ]
     },
     "execution_count": 584,
     "metadata": {},
     "output_type": "execute_result"
    },
    {
     "data": {
      "image/png": "[encoded data removed]",
      "text/plain": [
       "<Figure size 432x288 with 1 Axes>"
      ]
     },
     "metadata": {
      "needs_background": "light"
     },
     "output_type": "display_data"
    }
   ],
   "source": [
    "plt.plot(range(len(res_con_grad[1])), res_con_grad[1], label=\"no preconditeor\");\n",
    "plt.plot(range(len(rs)), rs, label=\"diagonal preconditeor\");\n",
    "plt.plot(range(len(x_hol[1])), x_hol[1], label=\"Holetski preconditeor\");\n",
    "plt.xlabel('iter')\n",
    "plt.ylabel('residual rate')\n",
    "plt.title(\"график нормы невязки от номера итеррации для разных способов\");\n",
    "plt.xlim(0, 50)\n",
    "plt.legend()"
   ]
  },
  {
   "cell_type": "markdown",
   "metadata": {
    "id": "pQ_0vVE4ilKz"
   },
   "source": [
    "# 📱🎧💻 LP. Covers manufacturing\n",
    "\n",
    "Random Corp is producing covers for following products: \n",
    "* 📱 phones\n",
    "* 🎧 headphones\n",
    "* 💻 laptops\n",
    "\n",
    "The company’s production facilities are such that if we devote the entire production to headphones covers, we can produce 5000 of them in one day. If we devote the entire production to phone covers or laptop covers, we can produce 4000 or 2000 of them in one day. \n",
    "\n",
    "The production schedule is one week (6 working days), and the week’s production must be stored before distribution. Storing 1000 headphones covers (packaging included) takes up 30 cubic feet of space. Storing 1000 phone covers (packaging included) takes up 50 cubic feet of space, and storing 1000 laptop covers (packaging included) takes up 220 cubic feet of space. The total storage space available is 6000 cubic feet. \n",
    "\n",
    "Due to commercial agreements with Random Corp has to deliver at least 4500 headphones covers and 3000 laptop covers per week in order to strengthen the product’s diffusion. \n",
    "\n",
    "The marketing department estimates that the weekly demand for headphones covers, phone, and laptop covers does not exceed 9000 and 14000, and 7000 units, therefore the company does not want to produce more than these amounts for headphones, phone, and laptop covers. \n",
    "\n",
    "Finally, the net profit per each headphones cover, phone cover, and laptop cover is \\$5, \\$7, and \\$12, respectively.\n",
    "\n",
    "The aim is to determine a weekly production schedule that maximizes the total net profit."
   ]
  },
  {
   "cell_type": "markdown",
   "metadata": {
    "id": "R-xSApEn0VXb"
   },
   "source": [
    "<font color=\"lime\"> ==YOUR ANSWER== </font>"
   ]
  },
  {
   "cell_type": "markdown",
   "metadata": {
    "id": "eAni9iJr0Wr8"
   },
   "source": [
    "Find the solution to the problem using [`PuLP`](https://coin-or.github.io/pulp/)\n",
    "\n",
    "\n"
   ]
  },
  {
   "cell_type": "code",
   "execution_count": 3,
   "metadata": {
    "id": "vfQsGLGyOAM9"
   },
   "outputs": [
    {
     "name": "stderr",
     "output_type": "stream",
     "text": [
      "\"sudo\" ­Ґ пў«пҐвбп ў­гваҐ­­Ґ© Ё«Ё ў­Ґи­Ґ©\n",
      "Є®¬ ­¤®©, ЁбЇ®«­пҐ¬®© Їа®Ја ¬¬®© Ё«Ё Ї ЄҐв­л¬ д ©«®¬.\n",
      "\"sudo\" ­Ґ пў«пҐвбп ў­гваҐ­­Ґ© Ё«Ё ў­Ґи­Ґ©\n",
      "Є®¬ ­¤®©, ЁбЇ®«­пҐ¬®© Їа®Ја ¬¬®© Ё«Ё Ї ЄҐв­л¬ д ©«®¬.\n"
     ]
    }
   ],
   "source": [
    "!pip install pulp --quiet\n",
    "! sudo apt-get install glpk-utils --quiet  # GLPK\n",
    "! sudo apt-get install coinor-cbc --quiet  # CoinOR"
   ]
  },
  {
   "cell_type": "code",
   "execution_count": 38,
   "metadata": {},
   "outputs": [],
   "source": [
    "import pulp"
   ]
  },
  {
   "cell_type": "code",
   "execution_count": 39,
   "metadata": {},
   "outputs": [],
   "source": [
    "# name ofproducts\n",
    "buf_products = [\"LAPTOPS\", \"TELEPHONES\", \"HEADPHONES\"]"
   ]
  },
  {
   "cell_type": "code",
   "execution_count": 40,
   "metadata": {},
   "outputs": [],
   "source": [
    "# costs of products\n",
    "dict_costs = {\"LAPTOPS\": 12, \"TELEPHONES\": 7, \"HEADPHONES\": 5}"
   ]
  },
  {
   "cell_type": "code",
   "execution_count": 41,
   "metadata": {
    "id": "YrzhBke_kjbk"
   },
   "outputs": [],
   "source": [
    "# performance \n",
    "performance = {\"LAPTOPS\": 1.0/2000, \"TELEPHONES\": 1.0/4000, \"HEADPHONES\": 1.0/5000}"
   ]
  },
  {
   "cell_type": "code",
   "execution_count": 42,
   "metadata": {},
   "outputs": [],
   "source": [
    "# min amount of product in week\n",
    "min_num_prod = {\"LAPTOPS\": 3000, \"TELEPHONES\": 0, \"HEADPHONES\": 4500}\n",
    "\n",
    "# max amount of product in week\n",
    "max_num_prod = {\"LAPTOPS\": 7000, \"TELEPHONES\": 14000, \"HEADPHONES\": 9000}"
   ]
  },
  {
   "cell_type": "code",
   "execution_count": 43,
   "metadata": {},
   "outputs": [],
   "source": [
    "# value of products\n",
    "value = {\"LAPTOPS\": 220.0/1000, \"TELEPHONES\": 50.0/1000, \"HEADPHONES\": 30.0/1000}\n",
    "\n",
    "TOTAL_VALUE = 6000.0"
   ]
  },
  {
   "cell_type": "code",
   "execution_count": 44,
   "metadata": {},
   "outputs": [],
   "source": [
    "# create LP object,\n",
    "# set up as a maximization problem --> since we want to maximize sum cost of product\n",
    "prob = pulp.LpProblem('goods_problem', pulp.LpMaximize)"
   ]
  },
  {
   "cell_type": "code",
   "execution_count": 45,
   "metadata": {},
   "outputs": [],
   "source": [
    "num_products = pulp.LpVariable.dicts(\"num_products\", buf_products)\n",
    "\n",
    "# ограничения на максимальное и минимальное произведёное кол-во товаров\n",
    "for pr in buf_products:\n",
    "    num_products[pr].lowBound = min_num_prod[pr]\n",
    "    num_products[pr].upBound = max_num_prod[pr]"
   ]
  },
  {
   "cell_type": "code",
   "execution_count": 46,
   "metadata": {},
   "outputs": [],
   "source": [
    "# ограничения на объём всех занимаемых товаров\n",
    "prob += pulp.lpSum([value[pr] * num_products[pr] for pr in buf_products]) <= TOTAL_VALUE"
   ]
  },
  {
   "cell_type": "code",
   "execution_count": 47,
   "metadata": {},
   "outputs": [],
   "source": [
    "# ограничение на то, что в день можем производить не больше определённого кол-ва товаров\n",
    "prob += pulp.lpSum([performance[pr] * num_products[pr] for pr in buf_products]) <= 6.0 "
   ]
  },
  {
   "cell_type": "code",
   "execution_count": 48,
   "metadata": {},
   "outputs": [],
   "source": [
    "# функция для максимизации\n",
    "prob += pulp.lpSum([dict_costs[pr] * num_products[pr] for pr in buf_products])"
   ]
  },
  {
   "cell_type": "code",
   "execution_count": 49,
   "metadata": {},
   "outputs": [
    {
     "data": {
      "text/plain": [
       "1"
      ]
     },
     "execution_count": 49,
     "metadata": {},
     "output_type": "execute_result"
    }
   ],
   "source": [
    "prob.solve()"
   ]
  },
  {
   "cell_type": "code",
   "execution_count": 50,
   "metadata": {},
   "outputs": [
    {
     "data": {
      "text/plain": [
       "'Optimal'"
      ]
     },
     "execution_count": 50,
     "metadata": {},
     "output_type": "execute_result"
    }
   ],
   "source": [
    "pulp.LpStatus[prob.status]"
   ]
  },
  {
   "cell_type": "code",
   "execution_count": 51,
   "metadata": {},
   "outputs": [
    {
     "name": "stdout",
     "output_type": "stream",
     "text": [
      "num_products_HEADPHONES = 5000.0\n",
      "num_products_LAPTOPS = 3000.0\n",
      "num_products_TELEPHONES = 14000.0\n"
     ]
    }
   ],
   "source": [
    "for el in prob.variables():\n",
    "    print(el.name, '=', el.varValue)"
   ]
  },
  {
   "cell_type": "markdown",
   "metadata": {},
   "source": [
    "Получили решение нашей задачи линейного программирования, на котором получается максимальная прибыль за неделю"
   ]
  },
  {
   "cell_type": "markdown",
   "metadata": {
    "heading_collapsed": true,
    "id": "gQuv1xBkc3eC"
   },
   "source": [
    "# 🚧 Idea of barrier methods"
   ]
  },
  {
   "cell_type": "markdown",
   "metadata": {
    "hidden": true,
    "id": "f4PuvteUc3eC"
   },
   "source": [
    "Идея барьерных методов довольно проста: давайте заменим задачу условной оптимизации на последовательность модифицированных задач безусловной оптимизации, которая сходится к исходной. Рассмотрим простой пример такой задачи.\n",
    "\n",
    "$$\n",
    "\\begin{split}\n",
    "\\min_{x \\in \\mathbb{R}^n} & c^\\top x \\\\\n",
    "Ax & \\leq b\n",
    "\\end{split}\n",
    "$$\n",
    "\n",
    "Вместо этого предлагается рассмотреть задачу безусловной оптимизации:\n",
    "\n",
    "$$\n",
    "\\min_{x \\in \\mathbb{R}^n}  c^\\top x + \\frac{1}{t} \\sum\\limits_{i=1}^m \\left[ -\\ln\\left(-(a_i^\\top x - b_i)\\right) \\right]\n",
    "$$\n",
    "\n",
    "По сути, все ограничения типа неравенств инкорпорируются в целевую функцию как **барьерные функции** с помощью (например) логарифмического барьера $-\\ln{-h(x)}$ при $t \\to \\infty$ (см. картинку ниже)"
   ]
  },
  {
   "cell_type": "code",
   "execution_count": null,
   "metadata": {
    "hidden": true,
    "id": "Nd79vsgsc3eC",
    "outputId": "c8ef7760-46d1-41fd-f5af-6580a263e3c3"
   },
   "outputs": [
    {
     "name": "stderr",
     "output_type": "stream",
     "text": [
      "C:\\ProgramData\\Anaconda3\\lib\\site-packages\\ipykernel_launcher.py:9: DeprecationWarning: object of type <class 'numpy.float64'> cannot be safely interpreted as an integer.\n",
      "  if __name__ == '__main__':\n",
      "C:\\ProgramData\\Anaconda3\\lib\\site-packages\\ipykernel_launcher.py:10: RuntimeWarning: divide by zero encountered in log\n",
      "  # Remove the CWD from sys.path while we load stuff.\n"
     ]
    },
    {
     "data": {
      "image/png": "[encoded data removed]",
      "text/plain": [
       "<Figure size 432x288 with 1 Axes>"
      ]
     },
     "metadata": {
      "tags": []
     },
     "output_type": "display_data"
    }
   ],
   "source": [
    "import numpy as np\n",
    "from matplotlib import pyplot as plt\n",
    "import seaborn as sns\n",
    "sns.set()\n",
    "\n",
    "t = np.linspace(2,14, 4)\n",
    "\n",
    "for t_ in t:\n",
    "    x = np.linspace(-1.5,0, 20*t_)\n",
    "    y = -np.log(-x)\n",
    "    plt.plot(x,y/t_, label = f't = {t_:.2f}')\n",
    "\n",
    "plt.title(f'Log barrier function become an indicator with $t \\\\to \\infty$')\n",
    "plt.ylabel(f'$-\\ln(-h(x))$')\n",
    "plt.xlabel(f'$x$')\n",
    "plt.legend()\n",
    "plt.show()"
   ]
  },
  {
   "cell_type": "markdown",
   "metadata": {
    "hidden": true,
    "id": "HVy22uKqc3eC"
   },
   "source": [
    "Таким образом, формируется последовательности вспомогательных задач, в которых барьерная функция практически ничего не добавляет к исходной функции, но начинает заметно штрафовать по мере приближения к границе бюджетного множества. \n",
    "\n",
    "Алгоритм можно сформулировать следующим образом:\n",
    "* $t = t_0 >0$, $x_0 \\in S$ - корректная инициализация\n",
    "\n",
    "Повторять для $\\mu > 1$ и $k = 1,2,3,\\ldots$\n",
    "\n",
    "* Шаг оптимизационного алгоритма для функции $t_k f(x_k) + \\varphi(x_k)$ $\\to x_{k+1}$\n",
    "* если $\\frac{m}{t} \\leq \\varepsilon$ - конец алгоритма\n",
    "* Увеличить $t$: $t_{k+1} = \\mu t_k$"
   ]
  },
  {
   "cell_type": "markdown",
   "metadata": {
    "hidden": true,
    "id": "snF8W4XWc3eC"
   },
   "source": [
    "Постройте график количества итераций, необходимых для достижения $\\varepsilon = 10^{-8}$ точности для $n=50, m = 100$ в зависимости от значения параметра $\\mu$.\n",
    "\n",
    "Рассмотрите при этом метод Ньютона для целевой функции с фиксированным шагом или демпфированный метод Ньютона. (По [ссылке](https://statweb.stanford.edu/~candes/teaching/acm113/Handouts/sumt.pdf) доступен код на матлабе для решения задачи, можно в него смотреть и понять, как делать эту задачу.)\n",
    "\n",
    "Рассмотрите значения $\\mu$ в интервале $[2, 1000]$ с помощью функции `mus = np.linspace(2,1000)`"
   ]
  },
  {
   "cell_type": "code",
   "execution_count": 287,
   "metadata": {},
   "outputs": [],
   "source": [
    "def calc_grad_hes(A, b, c, t, x):\n",
    "    m, n = A.shape\n",
    "    r = A @ x - b\n",
    "    R = np.diag(1.0/r)\n",
    "    \n",
    "    func = t*c.T @ x - np.log(-r.T) @ np.ones(m)\n",
    "    \n",
    "    grad = t*c - A.T @ R @ np.ones(m)\n",
    "    \n",
    "    hes = A.T @ R @ R @ A\n",
    "    \n",
    "    return func, grad, hes"
   ]
  },
  {
   "cell_type": "code",
   "execution_count": 288,
   "metadata": {},
   "outputs": [],
   "source": [
    "m, n = 100, 50\n",
    "A = np.random.uniform(size=(m, n))\n",
    "b = 1+ np.random.uniform(size=m)\n",
    "c = np.random.uniform(size=n)"
   ]
  },
  {
   "cell_type": "code",
   "execution_count": 289,
   "metadata": {},
   "outputs": [],
   "source": [
    "buf_iters = []\n",
    "\n",
    "for mu in np.linspace(2, 1000):\n",
    "    t = 1\n",
    "    x = np.random.uniform(size=n)\n",
    "    num_iter = 0\n",
    "    \n",
    "    while m / t >= 1e-8:\n",
    "        func, grad, hes = calc_grad_hes(A, b, c, t, x)\n",
    "        \n",
    "        x_new = x - np.linalg.inv(hes) @ grad\n",
    "        \n",
    "        if np.linalg.norm(x_new - x) <= 1e-8:\n",
    "            break\n",
    "        \n",
    "        t *= mu\n",
    "        num_iter += 1\n",
    "        x = x_new\n",
    "    buf_iters.append(num_iter)"
   ]
  },
  {
   "cell_type": "code",
   "execution_count": 290,
   "metadata": {},
   "outputs": [
    {
     "data": {
      "image/png": "[encoded data removed]",
      "text/plain": [
       "<Figure size 432x288 with 1 Axes>"
      ]
     },
     "metadata": {
      "needs_background": "light"
     },
     "output_type": "display_data"
    }
   ],
   "source": [
    "plt.plot(np.linspace(2, 1000), buf_iters);\n",
    "plt.xlabel('mu')\n",
    "plt.ylabel('num iters')\n",
    "plt.title(\"график количества итераций, необходимых для достижения нужной точности в зависимости от Mu\");"
   ]
  },
  {
   "cell_type": "markdown",
   "metadata": {},
   "source": [
    "После того, как посмотрел код на матлабе полностью и внимательно решил повторить их эксперимент с демпфированный метод Ньютона и понять, как будет отличаться от обычного метода Ньютона"
   ]
  },
  {
   "cell_type": "code",
   "execution_count": 291,
   "metadata": {},
   "outputs": [],
   "source": [
    "BETA = 0.7\n",
    "ALPHA = 0.1"
   ]
  },
  {
   "cell_type": "code",
   "execution_count": 296,
   "metadata": {},
   "outputs": [],
   "source": [
    "buf_iters = []\n",
    "\n",
    "for mu in np.linspace(2, 1000):\n",
    "    t = 1\n",
    "    x = np.zeros(n)\n",
    "    num_iter = 0\n",
    "    \n",
    "    while m / t >= 1e-8:\n",
    "        func, grad, hes = calc_grad_hes(A, b, c, t, x)\n",
    "        \n",
    "        v =  np.linalg.inv(hes) @ grad\n",
    "        \n",
    "        newton_decrement = grad.T @ v\n",
    "        s = 1\n",
    "        while min(b - A @ (x + s*v)) < 0:\n",
    "            s = BETA*s\n",
    "            \n",
    "        while calc_grad_hes(A, b, c, t, x+s*v)[0] > func + ALPHA*s*newton_decrement:\n",
    "            s = BETA*s\n",
    "            \n",
    "        x += s * v\n",
    "        \n",
    "        if abs(newton_decrement) <= 1e-8:\n",
    "            break\n",
    "        \n",
    "        t *= mu\n",
    "        num_iter += 1\n",
    "    buf_iters.append(num_iter)"
   ]
  },
  {
   "cell_type": "code",
   "execution_count": 297,
   "metadata": {},
   "outputs": [
    {
     "data": {
      "image/png": "[encoded data removed]",
      "text/plain": [
       "<Figure size 432x288 with 1 Axes>"
      ]
     },
     "metadata": {
      "needs_background": "light"
     },
     "output_type": "display_data"
    }
   ],
   "source": [
    "plt.plot(np.linspace(2, 1000), buf_iters);\n",
    "plt.xlabel('mu')\n",
    "plt.ylabel('num iters')\n",
    "plt.title(\"график количества итераций, необходимых для достижения нужной точности в зависимости от Mu\");"
   ]
  },
  {
   "cell_type": "code",
   "execution_count": null,
   "metadata": {},
   "outputs": [],
   "source": []
  }
 ],
 "metadata": {
  "colab": {
   "collapsed_sections": [],
   "name": "21_HW_2.ipynb",
   "provenance": []
  },
  "kernelspec": {
   "display_name": "Python 3",
   "language": "python",
   "name": "python3"
  },
  "language_info": {
   "codemirror_mode": {
    "name": "ipython",
    "version": 3
   },
   "file_extension": ".py",
   "mimetype": "text/x-python",
   "name": "python",
   "nbconvert_exporter": "python",
   "pygments_lexer": "ipython3",
   "version": "3.7.3"
  }
 },
 "nbformat": 4,
 "nbformat_minor": 1
}
